{
  "nbformat": 4,
  "nbformat_minor": 0,
  "metadata": {
    "colab": {
      "provenance": []
    },
    "kernelspec": {
      "name": "python3",
      "display_name": "Python 3"
    },
    "language_info": {
      "name": "python"
    }
  },
  "cells": [
    {
      "cell_type": "code",
      "source": [
        "from google.colab import drive\n",
        "drive.mount('/content/drive')"
      ],
      "metadata": {
        "colab": {
          "base_uri": "https://localhost:8080/"
        },
        "id": "jRMLNHYs4my7",
        "outputId": "704a0080-2f74-4025-e426-c36021ca0530"
      },
      "execution_count": null,
      "outputs": [
        {
          "output_type": "stream",
          "name": "stdout",
          "text": [
            "Drive already mounted at /content/drive; to attempt to forcibly remount, call drive.mount(\"/content/drive\", force_remount=True).\n"
          ]
        }
      ]
    },
    {
      "cell_type": "code",
      "source": [
        "import pandas as pd\n",
        "import numpy as np\n",
        "import seaborn as sns\n",
        "from sklearn.model_selection import train_test_split\n",
        "from sklearn.ensemble import RandomForestClassifier\n",
        "from sklearn.metrics import accuracy_score, roc_auc_score, confusion_matrix\n",
        "from sklearn.metrics import ConfusionMatrixDisplay\n",
        "from tqdm import tqdm\n",
        "import matplotlib.pyplot as plt\n",
        "from sklearn.model_selection import cross_val_score\n",
        "from sklearn.neighbors import KNeighborsClassifier\n",
        "import tensorflow as tf\n",
        "\n",
        "plt.style.use('ggplot')"
      ],
      "metadata": {
        "id": "KR9yMNz1n87Z"
      },
      "execution_count": null,
      "outputs": []
    },
    {
      "cell_type": "code",
      "source": [
        "file_path = '/content/drive/MyDrive/WAI/salary/salary.csv'"
      ],
      "metadata": {
        "id": "YAtuZIHnaxZ_"
      },
      "execution_count": null,
      "outputs": []
    },
    {
      "cell_type": "code",
      "source": [
        "df = pd.read_csv(file_path)"
      ],
      "metadata": {
        "id": "dlV22_gL8ju-"
      },
      "execution_count": null,
      "outputs": []
    },
    {
      "cell_type": "code",
      "source": [
        "df"
      ],
      "metadata": {
        "colab": {
          "base_uri": "https://localhost:8080/",
          "height": 780
        },
        "id": "9ro_lHTePMlm",
        "outputId": "699aa897-607c-4844-d540-f4d6ff655586"
      },
      "execution_count": null,
      "outputs": [
        {
          "output_type": "execute_result",
          "data": {
            "text/plain": [
              "       age         workclass  fnlwgt   education  education-num  \\\n",
              "0       39         State-gov   77516   Bachelors             13   \n",
              "1       50  Self-emp-not-inc   83311   Bachelors             13   \n",
              "2       38           Private  215646     HS-grad              9   \n",
              "3       53           Private  234721        11th              7   \n",
              "4       28           Private  338409   Bachelors             13   \n",
              "...    ...               ...     ...         ...            ...   \n",
              "32556   27           Private  257302  Assoc-acdm             12   \n",
              "32557   40           Private  154374     HS-grad              9   \n",
              "32558   58           Private  151910     HS-grad              9   \n",
              "32559   22           Private  201490     HS-grad              9   \n",
              "32560   52      Self-emp-inc  287927     HS-grad              9   \n",
              "\n",
              "           marital-status         occupation   relationship   race     sex  \\\n",
              "0           Never-married       Adm-clerical  Not-in-family  White    Male   \n",
              "1      Married-civ-spouse    Exec-managerial        Husband  White    Male   \n",
              "2                Divorced  Handlers-cleaners  Not-in-family  White    Male   \n",
              "3      Married-civ-spouse  Handlers-cleaners        Husband  Black    Male   \n",
              "4      Married-civ-spouse     Prof-specialty           Wife  Black  Female   \n",
              "...                   ...                ...            ...    ...     ...   \n",
              "32556  Married-civ-spouse       Tech-support           Wife  White  Female   \n",
              "32557  Married-civ-spouse  Machine-op-inspct        Husband  White    Male   \n",
              "32558             Widowed       Adm-clerical      Unmarried  White  Female   \n",
              "32559       Never-married       Adm-clerical      Own-child  White    Male   \n",
              "32560  Married-civ-spouse    Exec-managerial           Wife  White  Female   \n",
              "\n",
              "       capital-gain  capital-loss  hours-per-week native-country salary  \n",
              "0              2174             0              40  United-States  <=50K  \n",
              "1                 0             0              13  United-States  <=50K  \n",
              "2                 0             0              40  United-States  <=50K  \n",
              "3                 0             0              40  United-States  <=50K  \n",
              "4                 0             0              40           Cuba  <=50K  \n",
              "...             ...           ...             ...            ...    ...  \n",
              "32556             0             0              38  United-States  <=50K  \n",
              "32557             0             0              40  United-States   >50K  \n",
              "32558             0             0              40  United-States  <=50K  \n",
              "32559             0             0              20  United-States  <=50K  \n",
              "32560         15024             0              40  United-States   >50K  \n",
              "\n",
              "[32561 rows x 15 columns]"
            ],
            "text/html": [
              "\n",
              "  <div id=\"df-fb031bdf-e976-4e33-b7dc-cf6afb0bb579\">\n",
              "    <div class=\"colab-df-container\">\n",
              "      <div>\n",
              "<style scoped>\n",
              "    .dataframe tbody tr th:only-of-type {\n",
              "        vertical-align: middle;\n",
              "    }\n",
              "\n",
              "    .dataframe tbody tr th {\n",
              "        vertical-align: top;\n",
              "    }\n",
              "\n",
              "    .dataframe thead th {\n",
              "        text-align: right;\n",
              "    }\n",
              "</style>\n",
              "<table border=\"1\" class=\"dataframe\">\n",
              "  <thead>\n",
              "    <tr style=\"text-align: right;\">\n",
              "      <th></th>\n",
              "      <th>age</th>\n",
              "      <th>workclass</th>\n",
              "      <th>fnlwgt</th>\n",
              "      <th>education</th>\n",
              "      <th>education-num</th>\n",
              "      <th>marital-status</th>\n",
              "      <th>occupation</th>\n",
              "      <th>relationship</th>\n",
              "      <th>race</th>\n",
              "      <th>sex</th>\n",
              "      <th>capital-gain</th>\n",
              "      <th>capital-loss</th>\n",
              "      <th>hours-per-week</th>\n",
              "      <th>native-country</th>\n",
              "      <th>salary</th>\n",
              "    </tr>\n",
              "  </thead>\n",
              "  <tbody>\n",
              "    <tr>\n",
              "      <th>0</th>\n",
              "      <td>39</td>\n",
              "      <td>State-gov</td>\n",
              "      <td>77516</td>\n",
              "      <td>Bachelors</td>\n",
              "      <td>13</td>\n",
              "      <td>Never-married</td>\n",
              "      <td>Adm-clerical</td>\n",
              "      <td>Not-in-family</td>\n",
              "      <td>White</td>\n",
              "      <td>Male</td>\n",
              "      <td>2174</td>\n",
              "      <td>0</td>\n",
              "      <td>40</td>\n",
              "      <td>United-States</td>\n",
              "      <td>&lt;=50K</td>\n",
              "    </tr>\n",
              "    <tr>\n",
              "      <th>1</th>\n",
              "      <td>50</td>\n",
              "      <td>Self-emp-not-inc</td>\n",
              "      <td>83311</td>\n",
              "      <td>Bachelors</td>\n",
              "      <td>13</td>\n",
              "      <td>Married-civ-spouse</td>\n",
              "      <td>Exec-managerial</td>\n",
              "      <td>Husband</td>\n",
              "      <td>White</td>\n",
              "      <td>Male</td>\n",
              "      <td>0</td>\n",
              "      <td>0</td>\n",
              "      <td>13</td>\n",
              "      <td>United-States</td>\n",
              "      <td>&lt;=50K</td>\n",
              "    </tr>\n",
              "    <tr>\n",
              "      <th>2</th>\n",
              "      <td>38</td>\n",
              "      <td>Private</td>\n",
              "      <td>215646</td>\n",
              "      <td>HS-grad</td>\n",
              "      <td>9</td>\n",
              "      <td>Divorced</td>\n",
              "      <td>Handlers-cleaners</td>\n",
              "      <td>Not-in-family</td>\n",
              "      <td>White</td>\n",
              "      <td>Male</td>\n",
              "      <td>0</td>\n",
              "      <td>0</td>\n",
              "      <td>40</td>\n",
              "      <td>United-States</td>\n",
              "      <td>&lt;=50K</td>\n",
              "    </tr>\n",
              "    <tr>\n",
              "      <th>3</th>\n",
              "      <td>53</td>\n",
              "      <td>Private</td>\n",
              "      <td>234721</td>\n",
              "      <td>11th</td>\n",
              "      <td>7</td>\n",
              "      <td>Married-civ-spouse</td>\n",
              "      <td>Handlers-cleaners</td>\n",
              "      <td>Husband</td>\n",
              "      <td>Black</td>\n",
              "      <td>Male</td>\n",
              "      <td>0</td>\n",
              "      <td>0</td>\n",
              "      <td>40</td>\n",
              "      <td>United-States</td>\n",
              "      <td>&lt;=50K</td>\n",
              "    </tr>\n",
              "    <tr>\n",
              "      <th>4</th>\n",
              "      <td>28</td>\n",
              "      <td>Private</td>\n",
              "      <td>338409</td>\n",
              "      <td>Bachelors</td>\n",
              "      <td>13</td>\n",
              "      <td>Married-civ-spouse</td>\n",
              "      <td>Prof-specialty</td>\n",
              "      <td>Wife</td>\n",
              "      <td>Black</td>\n",
              "      <td>Female</td>\n",
              "      <td>0</td>\n",
              "      <td>0</td>\n",
              "      <td>40</td>\n",
              "      <td>Cuba</td>\n",
              "      <td>&lt;=50K</td>\n",
              "    </tr>\n",
              "    <tr>\n",
              "      <th>...</th>\n",
              "      <td>...</td>\n",
              "      <td>...</td>\n",
              "      <td>...</td>\n",
              "      <td>...</td>\n",
              "      <td>...</td>\n",
              "      <td>...</td>\n",
              "      <td>...</td>\n",
              "      <td>...</td>\n",
              "      <td>...</td>\n",
              "      <td>...</td>\n",
              "      <td>...</td>\n",
              "      <td>...</td>\n",
              "      <td>...</td>\n",
              "      <td>...</td>\n",
              "      <td>...</td>\n",
              "    </tr>\n",
              "    <tr>\n",
              "      <th>32556</th>\n",
              "      <td>27</td>\n",
              "      <td>Private</td>\n",
              "      <td>257302</td>\n",
              "      <td>Assoc-acdm</td>\n",
              "      <td>12</td>\n",
              "      <td>Married-civ-spouse</td>\n",
              "      <td>Tech-support</td>\n",
              "      <td>Wife</td>\n",
              "      <td>White</td>\n",
              "      <td>Female</td>\n",
              "      <td>0</td>\n",
              "      <td>0</td>\n",
              "      <td>38</td>\n",
              "      <td>United-States</td>\n",
              "      <td>&lt;=50K</td>\n",
              "    </tr>\n",
              "    <tr>\n",
              "      <th>32557</th>\n",
              "      <td>40</td>\n",
              "      <td>Private</td>\n",
              "      <td>154374</td>\n",
              "      <td>HS-grad</td>\n",
              "      <td>9</td>\n",
              "      <td>Married-civ-spouse</td>\n",
              "      <td>Machine-op-inspct</td>\n",
              "      <td>Husband</td>\n",
              "      <td>White</td>\n",
              "      <td>Male</td>\n",
              "      <td>0</td>\n",
              "      <td>0</td>\n",
              "      <td>40</td>\n",
              "      <td>United-States</td>\n",
              "      <td>&gt;50K</td>\n",
              "    </tr>\n",
              "    <tr>\n",
              "      <th>32558</th>\n",
              "      <td>58</td>\n",
              "      <td>Private</td>\n",
              "      <td>151910</td>\n",
              "      <td>HS-grad</td>\n",
              "      <td>9</td>\n",
              "      <td>Widowed</td>\n",
              "      <td>Adm-clerical</td>\n",
              "      <td>Unmarried</td>\n",
              "      <td>White</td>\n",
              "      <td>Female</td>\n",
              "      <td>0</td>\n",
              "      <td>0</td>\n",
              "      <td>40</td>\n",
              "      <td>United-States</td>\n",
              "      <td>&lt;=50K</td>\n",
              "    </tr>\n",
              "    <tr>\n",
              "      <th>32559</th>\n",
              "      <td>22</td>\n",
              "      <td>Private</td>\n",
              "      <td>201490</td>\n",
              "      <td>HS-grad</td>\n",
              "      <td>9</td>\n",
              "      <td>Never-married</td>\n",
              "      <td>Adm-clerical</td>\n",
              "      <td>Own-child</td>\n",
              "      <td>White</td>\n",
              "      <td>Male</td>\n",
              "      <td>0</td>\n",
              "      <td>0</td>\n",
              "      <td>20</td>\n",
              "      <td>United-States</td>\n",
              "      <td>&lt;=50K</td>\n",
              "    </tr>\n",
              "    <tr>\n",
              "      <th>32560</th>\n",
              "      <td>52</td>\n",
              "      <td>Self-emp-inc</td>\n",
              "      <td>287927</td>\n",
              "      <td>HS-grad</td>\n",
              "      <td>9</td>\n",
              "      <td>Married-civ-spouse</td>\n",
              "      <td>Exec-managerial</td>\n",
              "      <td>Wife</td>\n",
              "      <td>White</td>\n",
              "      <td>Female</td>\n",
              "      <td>15024</td>\n",
              "      <td>0</td>\n",
              "      <td>40</td>\n",
              "      <td>United-States</td>\n",
              "      <td>&gt;50K</td>\n",
              "    </tr>\n",
              "  </tbody>\n",
              "</table>\n",
              "<p>32561 rows × 15 columns</p>\n",
              "</div>\n",
              "      <button class=\"colab-df-convert\" onclick=\"convertToInteractive('df-fb031bdf-e976-4e33-b7dc-cf6afb0bb579')\"\n",
              "              title=\"Convert this dataframe to an interactive table.\"\n",
              "              style=\"display:none;\">\n",
              "        \n",
              "  <svg xmlns=\"http://www.w3.org/2000/svg\" height=\"24px\"viewBox=\"0 0 24 24\"\n",
              "       width=\"24px\">\n",
              "    <path d=\"M0 0h24v24H0V0z\" fill=\"none\"/>\n",
              "    <path d=\"M18.56 5.44l.94 2.06.94-2.06 2.06-.94-2.06-.94-.94-2.06-.94 2.06-2.06.94zm-11 1L8.5 8.5l.94-2.06 2.06-.94-2.06-.94L8.5 2.5l-.94 2.06-2.06.94zm10 10l.94 2.06.94-2.06 2.06-.94-2.06-.94-.94-2.06-.94 2.06-2.06.94z\"/><path d=\"M17.41 7.96l-1.37-1.37c-.4-.4-.92-.59-1.43-.59-.52 0-1.04.2-1.43.59L10.3 9.45l-7.72 7.72c-.78.78-.78 2.05 0 2.83L4 21.41c.39.39.9.59 1.41.59.51 0 1.02-.2 1.41-.59l7.78-7.78 2.81-2.81c.8-.78.8-2.07 0-2.86zM5.41 20L4 18.59l7.72-7.72 1.47 1.35L5.41 20z\"/>\n",
              "  </svg>\n",
              "      </button>\n",
              "      \n",
              "  <style>\n",
              "    .colab-df-container {\n",
              "      display:flex;\n",
              "      flex-wrap:wrap;\n",
              "      gap: 12px;\n",
              "    }\n",
              "\n",
              "    .colab-df-convert {\n",
              "      background-color: #E8F0FE;\n",
              "      border: none;\n",
              "      border-radius: 50%;\n",
              "      cursor: pointer;\n",
              "      display: none;\n",
              "      fill: #1967D2;\n",
              "      height: 32px;\n",
              "      padding: 0 0 0 0;\n",
              "      width: 32px;\n",
              "    }\n",
              "\n",
              "    .colab-df-convert:hover {\n",
              "      background-color: #E2EBFA;\n",
              "      box-shadow: 0px 1px 2px rgba(60, 64, 67, 0.3), 0px 1px 3px 1px rgba(60, 64, 67, 0.15);\n",
              "      fill: #174EA6;\n",
              "    }\n",
              "\n",
              "    [theme=dark] .colab-df-convert {\n",
              "      background-color: #3B4455;\n",
              "      fill: #D2E3FC;\n",
              "    }\n",
              "\n",
              "    [theme=dark] .colab-df-convert:hover {\n",
              "      background-color: #434B5C;\n",
              "      box-shadow: 0px 1px 3px 1px rgba(0, 0, 0, 0.15);\n",
              "      filter: drop-shadow(0px 1px 2px rgba(0, 0, 0, 0.3));\n",
              "      fill: #FFFFFF;\n",
              "    }\n",
              "  </style>\n",
              "\n",
              "      <script>\n",
              "        const buttonEl =\n",
              "          document.querySelector('#df-fb031bdf-e976-4e33-b7dc-cf6afb0bb579 button.colab-df-convert');\n",
              "        buttonEl.style.display =\n",
              "          google.colab.kernel.accessAllowed ? 'block' : 'none';\n",
              "\n",
              "        async function convertToInteractive(key) {\n",
              "          const element = document.querySelector('#df-fb031bdf-e976-4e33-b7dc-cf6afb0bb579');\n",
              "          const dataTable =\n",
              "            await google.colab.kernel.invokeFunction('convertToInteractive',\n",
              "                                                     [key], {});\n",
              "          if (!dataTable) return;\n",
              "\n",
              "          const docLinkHtml = 'Like what you see? Visit the ' +\n",
              "            '<a target=\"_blank\" href=https://colab.research.google.com/notebooks/data_table.ipynb>data table notebook</a>'\n",
              "            + ' to learn more about interactive tables.';\n",
              "          element.innerHTML = '';\n",
              "          dataTable['output_type'] = 'display_data';\n",
              "          await google.colab.output.renderOutput(dataTable, element);\n",
              "          const docLink = document.createElement('div');\n",
              "          docLink.innerHTML = docLinkHtml;\n",
              "          element.appendChild(docLink);\n",
              "        }\n",
              "      </script>\n",
              "    </div>\n",
              "  </div>\n",
              "  "
            ]
          },
          "metadata": {},
          "execution_count": 787
        }
      ]
    },
    {
      "cell_type": "code",
      "source": [
        "df.columns"
      ],
      "metadata": {
        "colab": {
          "base_uri": "https://localhost:8080/"
        },
        "id": "i367-PQbPOSI",
        "outputId": "47f6f02b-f4db-40a0-a5a5-0097bfe6da85"
      },
      "execution_count": null,
      "outputs": [
        {
          "output_type": "execute_result",
          "data": {
            "text/plain": [
              "Index(['age', 'workclass', 'fnlwgt', 'education', 'education-num',\n",
              "       'marital-status', 'occupation', 'relationship', 'race', 'sex',\n",
              "       'capital-gain', 'capital-loss', 'hours-per-week', 'native-country',\n",
              "       'salary'],\n",
              "      dtype='object')"
            ]
          },
          "metadata": {},
          "execution_count": 788
        }
      ]
    },
    {
      "cell_type": "code",
      "source": [
        "df.dtypes"
      ],
      "metadata": {
        "colab": {
          "base_uri": "https://localhost:8080/"
        },
        "id": "A-r2nU4cQyNm",
        "outputId": "c6a2b3c5-7b65-4674-80c2-eaa4b569e574"
      },
      "execution_count": null,
      "outputs": [
        {
          "output_type": "execute_result",
          "data": {
            "text/plain": [
              "age                int64\n",
              "workclass         object\n",
              "fnlwgt             int64\n",
              "education         object\n",
              "education-num      int64\n",
              "marital-status    object\n",
              "occupation        object\n",
              "relationship      object\n",
              "race              object\n",
              "sex               object\n",
              "capital-gain       int64\n",
              "capital-loss       int64\n",
              "hours-per-week     int64\n",
              "native-country    object\n",
              "salary            object\n",
              "dtype: object"
            ]
          },
          "metadata": {},
          "execution_count": 789
        }
      ]
    },
    {
      "cell_type": "code",
      "source": [
        "df['workclass'] =  df['workclass'].replace(\n",
        "    ['Self-emp-not-inc', 'Self-emp-inc'], 'Self-emp')\n",
        "df['workclass'] =  df['workclass'].replace(\n",
        "    ['Without-pay', 'Never-worked'], 'Without-pay')"
      ],
      "metadata": {
        "id": "W0-GzuCoAGDZ"
      },
      "execution_count": null,
      "outputs": []
    },
    {
      "cell_type": "code",
      "source": [
        "int_list = list(df[df['education'].str.contains('th')]['education'].unique())\n",
        "int_list.append('Preschool')\n",
        "df['education'] =  df['education'].replace(int_list , 'Low Education')\n",
        "\n",
        "df['education'] =  df['education'].replace('HS-grad', 'Intermediate Education')\n",
        "\n",
        "hg_list= list(set(df[df['education'].str.contains('-')]['education']))\n",
        "df['education'] =  df['education'].replace(hg_list , 'Above Intermediate')"
      ],
      "metadata": {
        "id": "JcYI7u09--38"
      },
      "execution_count": null,
      "outputs": []
    },
    {
      "cell_type": "code",
      "source": [
        "df['marital-status'] =  df['marital-status'].replace(\n",
        "    ['Married-civ-spouse', 'Married-spouse-absent', 'Married-AF-spouse' ] , \n",
        "    'Married')\n",
        "df['marital-status'] =  df['marital-status'].replace(\n",
        "    ['Divorced', 'Separated', 'Widowed' ] , 'Other')"
      ],
      "metadata": {
        "id": "NA0FX7lp_ns4"
      },
      "execution_count": null,
      "outputs": []
    },
    {
      "cell_type": "code",
      "source": [
        "df['race'] =  df['race'].replace(['Asian-Pac-Islander', 'Amer-Indian-Eskimo',\n",
        "                                  'Other' ] , 'Other')"
      ],
      "metadata": {
        "id": "qu4P5IGCCYu1"
      },
      "execution_count": null,
      "outputs": []
    },
    {
      "cell_type": "markdown",
      "source": [
        "# Data Analysis"
      ],
      "metadata": {
        "id": "LHxswghRTZeJ"
      }
    },
    {
      "cell_type": "code",
      "source": [
        "my_colours = ['#4878d0', '#d65f5f', '#d5bb67', '#797979', \n",
        "              '#dc7ec0', '#ee854a', '#4DBEEE', '#A25746',\n",
        "              '#312A72', '#5C2F6C', '#326E57', '#768528']"
      ],
      "metadata": {
        "id": "faXbZMo8ndOP"
      },
      "execution_count": null,
      "outputs": []
    },
    {
      "cell_type": "code",
      "source": [
        "plt.figure(figsize=(8,8))\n",
        "plt.hist(df.age, color='orange', edgecolor='brown', log = True)\n",
        "plt.axvline(df.age.median(), color='blue')\n",
        "plt.title('Age Distribution')\n",
        "plt.xlabel('Age')\n",
        "plt.show()"
      ],
      "metadata": {
        "colab": {
          "base_uri": "https://localhost:8080/",
          "height": 517
        },
        "id": "b_NF22V63w3O",
        "outputId": "c3188bbf-b915-46e2-a093-41546a4a5a92"
      },
      "execution_count": null,
      "outputs": [
        {
          "output_type": "display_data",
          "data": {
            "text/plain": [
              "<Figure size 576x576 with 1 Axes>"
            ],
            "image/png": "[encoded data removed]"
          },
          "metadata": {}
        }
      ]
    },
    {
      "cell_type": "code",
      "source": [
        "df['workclass'].value_counts().head().plot(\n",
        "    kind='pie', autopct='%.1f%%', radius=2, colors=my_colours)\n",
        "plt.show()"
      ],
      "metadata": {
        "colab": {
          "base_uri": "https://localhost:8080/",
          "height": 396
        },
        "id": "vDQny8T4mOM0",
        "outputId": "554a09c9-cc63-4883-8f42-4b380ad34694"
      },
      "execution_count": null,
      "outputs": [
        {
          "output_type": "display_data",
          "data": {
            "text/plain": [
              "<Figure size 432x288 with 1 Axes>"
            ],
            "image/png": "[encoded data removed]"
          },
          "metadata": {}
        }
      ]
    },
    {
      "cell_type": "code",
      "source": [
        "sns.countplot(data=df, y='education')\n",
        "plt.ylabel('Education')\n",
        "plt.show()"
      ],
      "metadata": {
        "colab": {
          "base_uri": "https://localhost:8080/",
          "height": 282
        },
        "id": "xcfNDCD0mOPB",
        "outputId": "9683bb54-f0df-4ec2-a1a0-548a550d1fd9"
      },
      "execution_count": null,
      "outputs": [
        {
          "output_type": "display_data",
          "data": {
            "text/plain": [
              "<Figure size 432x288 with 1 Axes>"
            ],
            "image/png": "[encoded data removed]"
          },
          "metadata": {}
        }
      ]
    },
    {
      "cell_type": "code",
      "source": [
        "plt.figure(figsize=(8,8))\n",
        "plt.hist(df['education-num'], color='orange', edgecolor='brown')\n",
        "plt.axvline(df['education-num'].median(), color='blue')\n",
        "plt.title('Education Number Distribution')\n",
        "plt.xlabel('Education Number')\n",
        "plt.show()"
      ],
      "metadata": {
        "colab": {
          "base_uri": "https://localhost:8080/",
          "height": 517
        },
        "id": "Tiq0rFa70eej",
        "outputId": "af427d53-8ee4-47ba-bbb7-a112e32ec676"
      },
      "execution_count": null,
      "outputs": [
        {
          "output_type": "display_data",
          "data": {
            "text/plain": [
              "<Figure size 576x576 with 1 Axes>"
            ],
            "image/png": "[encoded data removed]"
          },
          "metadata": {}
        }
      ]
    },
    {
      "cell_type": "code",
      "source": [
        "sns.countplot(data=df, y='occupation')\n",
        "plt.ylabel('Occupation')\n",
        "plt.show()"
      ],
      "metadata": {
        "colab": {
          "base_uri": "https://localhost:8080/",
          "height": 282
        },
        "id": "Ux-6WWoaqzyn",
        "outputId": "dc04bdc8-8a47-462a-fd74-40146f24a6c4"
      },
      "execution_count": null,
      "outputs": [
        {
          "output_type": "display_data",
          "data": {
            "text/plain": [
              "<Figure size 432x288 with 1 Axes>"
            ],
            "image/png": "[encoded data removed]"
          },
          "metadata": {}
        }
      ]
    },
    {
      "cell_type": "code",
      "source": [
        "sns.countplot(data=df, y='relationship')\n",
        "plt.ylabel('Relationships')\n",
        "plt.show()"
      ],
      "metadata": {
        "colab": {
          "base_uri": "https://localhost:8080/",
          "height": 282
        },
        "id": "SbB6JCYzqz3D",
        "outputId": "0d655ee4-7baf-4fa3-9ebd-432adeab5efe"
      },
      "execution_count": null,
      "outputs": [
        {
          "output_type": "display_data",
          "data": {
            "text/plain": [
              "<Figure size 432x288 with 1 Axes>"
            ],
            "image/png": "[encoded data removed]"
          },
          "metadata": {}
        }
      ]
    },
    {
      "cell_type": "code",
      "source": [
        "df['marital-status'].value_counts().sort_values().plot(\n",
        "    kind='bar', color=my_colours, width=0.5)\n",
        "plt.show()"
      ],
      "metadata": {
        "colab": {
          "base_uri": "https://localhost:8080/",
          "height": 329
        },
        "id": "ym3VYVDqujaa",
        "outputId": "8bedc2a4-6caf-4615-84e6-6c6f8549a9cc"
      },
      "execution_count": null,
      "outputs": [
        {
          "output_type": "display_data",
          "data": {
            "text/plain": [
              "<Figure size 432x288 with 1 Axes>"
            ],
            "image/png": "[encoded data removed]"
          },
          "metadata": {}
        }
      ]
    },
    {
      "cell_type": "code",
      "source": [
        "df['race'].value_counts().sort_values().plot(\n",
        "    kind='pie', autopct='%.1f%%', shadow=True, radius=2)\n",
        "plt.show()"
      ],
      "metadata": {
        "colab": {
          "base_uri": "https://localhost:8080/",
          "height": 382
        },
        "id": "VHL4P5jAqz6h",
        "outputId": "0c712236-1f06-4cc3-9fde-adbfd04351a2"
      },
      "execution_count": null,
      "outputs": [
        {
          "output_type": "display_data",
          "data": {
            "text/plain": [
              "<Figure size 432x288 with 1 Axes>"
            ],
            "image/png": "[encoded data removed]"
          },
          "metadata": {}
        }
      ]
    },
    {
      "cell_type": "code",
      "source": [
        "df['sex'].value_counts().sort_values().plot(\n",
        "    kind='pie', autopct='%.2f%%', colors=my_colours, radius=2)\n",
        "plt.show()"
      ],
      "metadata": {
        "colab": {
          "base_uri": "https://localhost:8080/",
          "height": 379
        },
        "id": "2zX2RNAXwW8a",
        "outputId": "bcb2f604-610b-4c6b-8039-2580a1fa238c"
      },
      "execution_count": null,
      "outputs": [
        {
          "output_type": "display_data",
          "data": {
            "text/plain": [
              "<Figure size 432x288 with 1 Axes>"
            ],
            "image/png": "[encoded data removed]"
          },
          "metadata": {}
        }
      ]
    },
    {
      "cell_type": "code",
      "source": [
        "df['salary'].value_counts().plot(\n",
        "    kind='pie', autopct='%.2f%%', radius=2, colors=my_colours)\n",
        "plt.show()"
      ],
      "metadata": {
        "colab": {
          "base_uri": "https://localhost:8080/",
          "height": 380
        },
        "id": "yxD6SKG1wrRy",
        "outputId": "f12b1fff-af50-46e4-f7c1-968ad1d273d6"
      },
      "execution_count": null,
      "outputs": [
        {
          "output_type": "display_data",
          "data": {
            "text/plain": [
              "<Figure size 432x288 with 1 Axes>"
            ],
            "image/png": "[encoded data removed]"
          },
          "metadata": {}
        }
      ]
    },
    {
      "cell_type": "markdown",
      "source": [
        "1. Czy starsze ludzie zarabiają więcej?"
      ],
      "metadata": {
        "id": "meJ905NOqeTn"
      }
    },
    {
      "cell_type": "code",
      "source": [
        "plt.figure(figsize=(6,6))\n",
        "plt.title('Czy starsze ludzie zarabiają więcej?')\n",
        "sns.kdeplot(data=df, x='age', hue='salary')\n",
        "plt.xlabel('Age')\n",
        "plt.show()"
      ],
      "metadata": {
        "colab": {
          "base_uri": "https://localhost:8080/",
          "height": 408
        },
        "id": "sna9DwJgqIWJ",
        "outputId": "f21b061a-519d-420a-f1a2-cd8dba36530a"
      },
      "execution_count": null,
      "outputs": [
        {
          "output_type": "display_data",
          "data": {
            "text/plain": [
              "<Figure size 432x432 with 1 Axes>"
            ],
            "image/png": "[encoded data removed]"
          },
          "metadata": {}
        }
      ]
    },
    {
      "cell_type": "markdown",
      "source": [
        "Wykres wskazuje na to, że osoby od 20 lat dopiero zaczynają zarabiać swoje pieniędzy, a w wieku 40-45 lat są na szczycie swoich zarobków."
      ],
      "metadata": {
        "id": "B8GMC6qpXD_S"
      }
    },
    {
      "cell_type": "markdown",
      "source": [
        "2. Czy wyższe wykształcenie gwarantuje większe zarobki?"
      ],
      "metadata": {
        "id": "e9baH9wcX88l"
      }
    },
    {
      "cell_type": "code",
      "source": [
        "plt.figure(figsize=(10,6))\n",
        "plt.title('Czy wyższe wykształcenie gwarantuje większe zarobki?')\n",
        "sns.countplot(data=df, x='education-num', hue='salary')\n",
        "plt.xlabel('Education number')\n",
        "plt.show()"
      ],
      "metadata": {
        "colab": {
          "base_uri": "https://localhost:8080/",
          "height": 408
        },
        "id": "lzMFRhAQVXRJ",
        "outputId": "b0924535-142b-4008-8e04-b43453b6fa8c"
      },
      "execution_count": null,
      "outputs": [
        {
          "output_type": "display_data",
          "data": {
            "text/plain": [
              "<Figure size 720x432 with 1 Axes>"
            ],
            "image/png": "[encoded data removed]"
          },
          "metadata": {}
        }
      ]
    },
    {
      "cell_type": "markdown",
      "source": [
        "Według danych najwięcej osób zarabia powyżej 50k po licencjacie (education number '13')."
      ],
      "metadata": {
        "id": "O4Lm6BG1Wrk1"
      }
    },
    {
      "cell_type": "markdown",
      "source": [
        "3. Czy kobiety zarabiają mniej od męszczyzn z danym stopniem naukowym?"
      ],
      "metadata": {
        "id": "AJSpv9M8hp_U"
      }
    },
    {
      "cell_type": "code",
      "source": [
        "df_mw=pd.get_dummies(df['salary'])\n",
        "df_mw=pd.pivot_table(df_mw,  index=df['education-num'], \n",
        "                     columns=df['sex'], values=['<=50K' , '>50K'], \n",
        "                     aggfunc=np.sum).reset_index()\n",
        "df_mw['>50K'] = (df_mw['>50K'] / (df_mw['>50K']+ df_mw['<=50K']))"
      ],
      "metadata": {
        "id": "uu4mYRly4xb9"
      },
      "execution_count": null,
      "outputs": []
    },
    {
      "cell_type": "code",
      "source": [
        "df_mw['>50K'].plot(figsize=(10,6), kind='bar')\n",
        "plt.title('Odsetek osób męskiej i damskiej płci, którzy otrzymują ponad 50k od ogólnej liczby przedstawicieli tej płci')\n",
        "plt.xlabel('Eduaction')\n",
        "plt.ylabel('Percentage (%)')\n",
        "plt.show()"
      ],
      "metadata": {
        "colab": {
          "base_uri": "https://localhost:8080/",
          "height": 411
        },
        "id": "nzETyGnV4xgB",
        "outputId": "9a4551fd-b178-4716-c700-d83508f940e8"
      },
      "execution_count": null,
      "outputs": [
        {
          "output_type": "display_data",
          "data": {
            "text/plain": [
              "<Figure size 720x432 with 1 Axes>"
            ],
            "image/png": "[encoded data removed]"
          },
          "metadata": {}
        }
      ]
    },
    {
      "cell_type": "markdown",
      "source": [
        "Dane wskazują na to, że męszczyźni zarabiają więcej w każdym z stopniu naukowym"
      ],
      "metadata": {
        "id": "XkAWaoxFFbOQ"
      }
    },
    {
      "cell_type": "markdown",
      "source": [
        "4. Czy kobiety zarabiają mniej od męszczyzn w danym zawodzie?"
      ],
      "metadata": {
        "id": "9ylyERlBGIsL"
      }
    },
    {
      "cell_type": "code",
      "source": [
        "df_os=pd.get_dummies(df['salary'])\n",
        "df_os=pd.pivot_table(df_os,  index=df['occupation'], \n",
        "                     columns=df['sex'], values=['<=50K' , '>50K'], \n",
        "                     aggfunc=np.sum)\n",
        "df_os['>50K'] = (df_os['>50K'] / (df_os['>50K']+ df_os['<=50K']))"
      ],
      "metadata": {
        "id": "A0JejPxW-jeX"
      },
      "execution_count": null,
      "outputs": []
    },
    {
      "cell_type": "code",
      "source": [
        "df_os['>50K'].plot(figsize=(10,6), kind='bar')\n",
        "plt.title('Odsetek osób męskiej i damskiej płci, którzy otrzymują ponad 50k (od ogólnej liczby przedstawicieli tej płci) w danym zawodzie')\n",
        "plt.xlabel('Occupation')\n",
        "plt.ylabel('Percentage(%)')\n",
        "plt.show()"
      ],
      "metadata": {
        "colab": {
          "base_uri": "https://localhost:8080/",
          "height": 490
        },
        "id": "sPerfjGJ4xjn",
        "outputId": "5f1a6015-a449-4ba5-aea1-e057b63efd1d"
      },
      "execution_count": null,
      "outputs": [
        {
          "output_type": "display_data",
          "data": {
            "text/plain": [
              "<Figure size 720x432 with 1 Axes>"
            ],
            "image/png": "[encoded data removed]"
          },
          "metadata": {}
        }
      ]
    },
    {
      "cell_type": "markdown",
      "source": [
        "Wedłyg danych w tym zbiorze kobiety zarabiają więcej tylko w usługach sprzątających."
      ],
      "metadata": {
        "id": "VDP9rVJWdCid"
      }
    },
    {
      "cell_type": "markdown",
      "source": [
        "## Data processing"
      ],
      "metadata": {
        "id": "dnzwG-0NxVrH"
      }
    },
    {
      "cell_type": "code",
      "source": [
        "def normalize_field(dataset, field_name):\n",
        "    dataset[field_name] = dataset[field_name] / dataset[field_name].max()\n",
        "    return dataset"
      ],
      "metadata": {
        "id": "Vej_6LI200pw"
      },
      "execution_count": null,
      "outputs": []
    },
    {
      "cell_type": "code",
      "source": [
        "def one_hot_field(dataset, field_name):\n",
        "    field_one_hot = pd.get_dummies(\n",
        "        df[field_name],prefix=f'{field_name}=', prefix_sep='')\n",
        "    dataset = pd.concat([df, field_one_hot], axis=1)\n",
        "    dataset = dataset.drop([field_name], axis=1)\n",
        "    return dataset"
      ],
      "metadata": {
        "id": "gZLlxxbJ001p"
      },
      "execution_count": null,
      "outputs": []
    },
    {
      "cell_type": "code",
      "source": [
        "def binary_encode_field(dataset, field_name, new_name):\n",
        "    unique_values = dataset[field_name].unique()\n",
        "    replace_nums = {field_name: {unique_values[0]: 0, unique_values[1]: 1}}\n",
        "    dataset = dataset.replace(replace_nums)\n",
        "    dataset.columns = dataset.columns.str.replace(field_name, new_name)\n",
        "    return dataset"
      ],
      "metadata": {
        "id": "8PQHDDFE006w"
      },
      "execution_count": null,
      "outputs": []
    },
    {
      "cell_type": "code",
      "source": [
        "numerical_fields = ['age', 'fnlwgt', 'education-num', 'capital-gain',\n",
        "                    'capital-loss', 'hours-per-week']\n",
        "categorical_fields = ['workclass', 'education', 'marital-status', 'occupation',\n",
        "                      'relationship', 'race', 'native-country']\n",
        "binary_fields = ['sex', 'salary']\n",
        "new_names = ['is_female', 'salary_greater_than_50k']"
      ],
      "metadata": {
        "id": "k-ugh2jI009g"
      },
      "execution_count": null,
      "outputs": []
    },
    {
      "cell_type": "code",
      "source": [
        "for field in numerical_fields:\n",
        "    df = normalize_field(df, field)"
      ],
      "metadata": {
        "id": "SDZ-sAQM01A6"
      },
      "execution_count": null,
      "outputs": []
    },
    {
      "cell_type": "code",
      "source": [
        "for i, field in enumerate(binary_fields):\n",
        "    df = binary_encode_field(df, field, new_names[i])"
      ],
      "metadata": {
        "id": "p2a9tK9j1Wg_"
      },
      "execution_count": null,
      "outputs": []
    },
    {
      "cell_type": "code",
      "source": [
        "for field in categorical_fields:\n",
        "    df = one_hot_field(df, field)"
      ],
      "metadata": {
        "id": "BNplDHEB1Wjb"
      },
      "execution_count": null,
      "outputs": []
    },
    {
      "cell_type": "code",
      "source": [
        "df"
      ],
      "metadata": {
        "colab": {
          "base_uri": "https://localhost:8080/"
        },
        "id": "egs0kDH-bzGR",
        "outputId": "b1c77193-0437-41bb-f8dc-290b168690b9"
      },
      "execution_count": null,
      "outputs": [
        {
          "output_type": "execute_result",
          "data": {
            "text/plain": [
              "            age    fnlwgt  education-num  is_female  capital-gain  \\\n",
              "0      0.433333  0.052210         0.8125          0      0.021740   \n",
              "1      0.555556  0.056113         0.8125          0      0.000000   \n",
              "2      0.422222  0.145245         0.5625          0      0.000000   \n",
              "3      0.588889  0.158093         0.4375          0      0.000000   \n",
              "4      0.311111  0.227930         0.8125          1      0.000000   \n",
              "...         ...       ...            ...        ...           ...   \n",
              "32556  0.300000  0.173302         0.7500          1      0.000000   \n",
              "32557  0.444444  0.103976         0.5625          0      0.000000   \n",
              "32558  0.644444  0.102317         0.5625          1      0.000000   \n",
              "32559  0.244444  0.135710         0.5625          0      0.000000   \n",
              "32560  0.577778  0.193929         0.5625          1      0.150242   \n",
              "\n",
              "       capital-loss  hours-per-week  salary_greater_than_50k  \\\n",
              "0               0.0        0.404040                        0   \n",
              "1               0.0        0.131313                        0   \n",
              "2               0.0        0.404040                        0   \n",
              "3               0.0        0.404040                        0   \n",
              "4               0.0        0.404040                        0   \n",
              "...             ...             ...                      ...   \n",
              "32556           0.0        0.383838                        0   \n",
              "32557           0.0        0.404040                        1   \n",
              "32558           0.0        0.404040                        0   \n",
              "32559           0.0        0.202020                        0   \n",
              "32560           0.0        0.404040                        1   \n",
              "\n",
              "       workclass=Federal-gov  workclass=Local-gov  ...  \\\n",
              "0                          0                    0  ...   \n",
              "1                          0                    0  ...   \n",
              "2                          0                    0  ...   \n",
              "3                          0                    0  ...   \n",
              "4                          0                    0  ...   \n",
              "...                      ...                  ...  ...   \n",
              "32556                      0                    0  ...   \n",
              "32557                      0                    0  ...   \n",
              "32558                      0                    0  ...   \n",
              "32559                      0                    0  ...   \n",
              "32560                      0                    0  ...   \n",
              "\n",
              "       native-country=Portugal  native-country=Puerto-Rico  \\\n",
              "0                            0                           0   \n",
              "1                            0                           0   \n",
              "2                            0                           0   \n",
              "3                            0                           0   \n",
              "4                            0                           0   \n",
              "...                        ...                         ...   \n",
              "32556                        0                           0   \n",
              "32557                        0                           0   \n",
              "32558                        0                           0   \n",
              "32559                        0                           0   \n",
              "32560                        0                           0   \n",
              "\n",
              "       native-country=Scotland  native-country=South  native-country=Taiwan  \\\n",
              "0                            0                     0                      0   \n",
              "1                            0                     0                      0   \n",
              "2                            0                     0                      0   \n",
              "3                            0                     0                      0   \n",
              "4                            0                     0                      0   \n",
              "...                        ...                   ...                    ...   \n",
              "32556                        0                     0                      0   \n",
              "32557                        0                     0                      0   \n",
              "32558                        0                     0                      0   \n",
              "32559                        0                     0                      0   \n",
              "32560                        0                     0                      0   \n",
              "\n",
              "       native-country=Thailand  native-country=Trinadad&Tobago  \\\n",
              "0                            0                               0   \n",
              "1                            0                               0   \n",
              "2                            0                               0   \n",
              "3                            0                               0   \n",
              "4                            0                               0   \n",
              "...                        ...                             ...   \n",
              "32556                        0                               0   \n",
              "32557                        0                               0   \n",
              "32558                        0                               0   \n",
              "32559                        0                               0   \n",
              "32560                        0                               0   \n",
              "\n",
              "       native-country=United-States  native-country=Vietnam  \\\n",
              "0                                 1                       0   \n",
              "1                                 1                       0   \n",
              "2                                 1                       0   \n",
              "3                                 1                       0   \n",
              "4                                 0                       0   \n",
              "...                             ...                     ...   \n",
              "32556                             1                       0   \n",
              "32557                             1                       0   \n",
              "32558                             1                       0   \n",
              "32559                             1                       0   \n",
              "32560                             1                       0   \n",
              "\n",
              "       native-country=Yugoslavia  \n",
              "0                              0  \n",
              "1                              0  \n",
              "2                              0  \n",
              "3                              0  \n",
              "4                              0  \n",
              "...                          ...  \n",
              "32556                          0  \n",
              "32557                          0  \n",
              "32558                          0  \n",
              "32559                          0  \n",
              "32560                          0  \n",
              "\n",
              "[32561 rows x 87 columns]"
            ],
            "text/html": [
              "\n",
              "  <div id=\"df-c1ef1a1a-a4e8-48bc-bb39-203ca513ef01\">\n",
              "    <div class=\"colab-df-container\">\n",
              "      <div>\n",
              "<style scoped>\n",
              "    .dataframe tbody tr th:only-of-type {\n",
              "        vertical-align: middle;\n",
              "    }\n",
              "\n",
              "    .dataframe tbody tr th {\n",
              "        vertical-align: top;\n",
              "    }\n",
              "\n",
              "    .dataframe thead th {\n",
              "        text-align: right;\n",
              "    }\n",
              "</style>\n",
              "<table border=\"1\" class=\"dataframe\">\n",
              "  <thead>\n",
              "    <tr style=\"text-align: right;\">\n",
              "      <th></th>\n",
              "      <th>age</th>\n",
              "      <th>fnlwgt</th>\n",
              "      <th>education-num</th>\n",
              "      <th>is_female</th>\n",
              "      <th>capital-gain</th>\n",
              "      <th>capital-loss</th>\n",
              "      <th>hours-per-week</th>\n",
              "      <th>salary_greater_than_50k</th>\n",
              "      <th>workclass=Federal-gov</th>\n",
              "      <th>workclass=Local-gov</th>\n",
              "      <th>...</th>\n",
              "      <th>native-country=Portugal</th>\n",
              "      <th>native-country=Puerto-Rico</th>\n",
              "      <th>native-country=Scotland</th>\n",
              "      <th>native-country=South</th>\n",
              "      <th>native-country=Taiwan</th>\n",
              "      <th>native-country=Thailand</th>\n",
              "      <th>native-country=Trinadad&amp;Tobago</th>\n",
              "      <th>native-country=United-States</th>\n",
              "      <th>native-country=Vietnam</th>\n",
              "      <th>native-country=Yugoslavia</th>\n",
              "    </tr>\n",
              "  </thead>\n",
              "  <tbody>\n",
              "    <tr>\n",
              "      <th>0</th>\n",
              "      <td>0.433333</td>\n",
              "      <td>0.052210</td>\n",
              "      <td>0.8125</td>\n",
              "      <td>0</td>\n",
              "      <td>0.021740</td>\n",
              "      <td>0.0</td>\n",
              "      <td>0.404040</td>\n",
              "      <td>0</td>\n",
              "      <td>0</td>\n",
              "      <td>0</td>\n",
              "      <td>...</td>\n",
              "      <td>0</td>\n",
              "      <td>0</td>\n",
              "      <td>0</td>\n",
              "      <td>0</td>\n",
              "      <td>0</td>\n",
              "      <td>0</td>\n",
              "      <td>0</td>\n",
              "      <td>1</td>\n",
              "      <td>0</td>\n",
              "      <td>0</td>\n",
              "    </tr>\n",
              "    <tr>\n",
              "      <th>1</th>\n",
              "      <td>0.555556</td>\n",
              "      <td>0.056113</td>\n",
              "      <td>0.8125</td>\n",
              "      <td>0</td>\n",
              "      <td>0.000000</td>\n",
              "      <td>0.0</td>\n",
              "      <td>0.131313</td>\n",
              "      <td>0</td>\n",
              "      <td>0</td>\n",
              "      <td>0</td>\n",
              "      <td>...</td>\n",
              "      <td>0</td>\n",
              "      <td>0</td>\n",
              "      <td>0</td>\n",
              "      <td>0</td>\n",
              "      <td>0</td>\n",
              "      <td>0</td>\n",
              "      <td>0</td>\n",
              "      <td>1</td>\n",
              "      <td>0</td>\n",
              "      <td>0</td>\n",
              "    </tr>\n",
              "    <tr>\n",
              "      <th>2</th>\n",
              "      <td>0.422222</td>\n",
              "      <td>0.145245</td>\n",
              "      <td>0.5625</td>\n",
              "      <td>0</td>\n",
              "      <td>0.000000</td>\n",
              "      <td>0.0</td>\n",
              "      <td>0.404040</td>\n",
              "      <td>0</td>\n",
              "      <td>0</td>\n",
              "      <td>0</td>\n",
              "      <td>...</td>\n",
              "      <td>0</td>\n",
              "      <td>0</td>\n",
              "      <td>0</td>\n",
              "      <td>0</td>\n",
              "      <td>0</td>\n",
              "      <td>0</td>\n",
              "      <td>0</td>\n",
              "      <td>1</td>\n",
              "      <td>0</td>\n",
              "      <td>0</td>\n",
              "    </tr>\n",
              "    <tr>\n",
              "      <th>3</th>\n",
              "      <td>0.588889</td>\n",
              "      <td>0.158093</td>\n",
              "      <td>0.4375</td>\n",
              "      <td>0</td>\n",
              "      <td>0.000000</td>\n",
              "      <td>0.0</td>\n",
              "      <td>0.404040</td>\n",
              "      <td>0</td>\n",
              "      <td>0</td>\n",
              "      <td>0</td>\n",
              "      <td>...</td>\n",
              "      <td>0</td>\n",
              "      <td>0</td>\n",
              "      <td>0</td>\n",
              "      <td>0</td>\n",
              "      <td>0</td>\n",
              "      <td>0</td>\n",
              "      <td>0</td>\n",
              "      <td>1</td>\n",
              "      <td>0</td>\n",
              "      <td>0</td>\n",
              "    </tr>\n",
              "    <tr>\n",
              "      <th>4</th>\n",
              "      <td>0.311111</td>\n",
              "      <td>0.227930</td>\n",
              "      <td>0.8125</td>\n",
              "      <td>1</td>\n",
              "      <td>0.000000</td>\n",
              "      <td>0.0</td>\n",
              "      <td>0.404040</td>\n",
              "      <td>0</td>\n",
              "      <td>0</td>\n",
              "      <td>0</td>\n",
              "      <td>...</td>\n",
              "      <td>0</td>\n",
              "      <td>0</td>\n",
              "      <td>0</td>\n",
              "      <td>0</td>\n",
              "      <td>0</td>\n",
              "      <td>0</td>\n",
              "      <td>0</td>\n",
              "      <td>0</td>\n",
              "      <td>0</td>\n",
              "      <td>0</td>\n",
              "    </tr>\n",
              "    <tr>\n",
              "      <th>...</th>\n",
              "      <td>...</td>\n",
              "      <td>...</td>\n",
              "      <td>...</td>\n",
              "      <td>...</td>\n",
              "      <td>...</td>\n",
              "      <td>...</td>\n",
              "      <td>...</td>\n",
              "      <td>...</td>\n",
              "      <td>...</td>\n",
              "      <td>...</td>\n",
              "      <td>...</td>\n",
              "      <td>...</td>\n",
              "      <td>...</td>\n",
              "      <td>...</td>\n",
              "      <td>...</td>\n",
              "      <td>...</td>\n",
              "      <td>...</td>\n",
              "      <td>...</td>\n",
              "      <td>...</td>\n",
              "      <td>...</td>\n",
              "      <td>...</td>\n",
              "    </tr>\n",
              "    <tr>\n",
              "      <th>32556</th>\n",
              "      <td>0.300000</td>\n",
              "      <td>0.173302</td>\n",
              "      <td>0.7500</td>\n",
              "      <td>1</td>\n",
              "      <td>0.000000</td>\n",
              "      <td>0.0</td>\n",
              "      <td>0.383838</td>\n",
              "      <td>0</td>\n",
              "      <td>0</td>\n",
              "      <td>0</td>\n",
              "      <td>...</td>\n",
              "      <td>0</td>\n",
              "      <td>0</td>\n",
              "      <td>0</td>\n",
              "      <td>0</td>\n",
              "      <td>0</td>\n",
              "      <td>0</td>\n",
              "      <td>0</td>\n",
              "      <td>1</td>\n",
              "      <td>0</td>\n",
              "      <td>0</td>\n",
              "    </tr>\n",
              "    <tr>\n",
              "      <th>32557</th>\n",
              "      <td>0.444444</td>\n",
              "      <td>0.103976</td>\n",
              "      <td>0.5625</td>\n",
              "      <td>0</td>\n",
              "      <td>0.000000</td>\n",
              "      <td>0.0</td>\n",
              "      <td>0.404040</td>\n",
              "      <td>1</td>\n",
              "      <td>0</td>\n",
              "      <td>0</td>\n",
              "      <td>...</td>\n",
              "      <td>0</td>\n",
              "      <td>0</td>\n",
              "      <td>0</td>\n",
              "      <td>0</td>\n",
              "      <td>0</td>\n",
              "      <td>0</td>\n",
              "      <td>0</td>\n",
              "      <td>1</td>\n",
              "      <td>0</td>\n",
              "      <td>0</td>\n",
              "    </tr>\n",
              "    <tr>\n",
              "      <th>32558</th>\n",
              "      <td>0.644444</td>\n",
              "      <td>0.102317</td>\n",
              "      <td>0.5625</td>\n",
              "      <td>1</td>\n",
              "      <td>0.000000</td>\n",
              "      <td>0.0</td>\n",
              "      <td>0.404040</td>\n",
              "      <td>0</td>\n",
              "      <td>0</td>\n",
              "      <td>0</td>\n",
              "      <td>...</td>\n",
              "      <td>0</td>\n",
              "      <td>0</td>\n",
              "      <td>0</td>\n",
              "      <td>0</td>\n",
              "      <td>0</td>\n",
              "      <td>0</td>\n",
              "      <td>0</td>\n",
              "      <td>1</td>\n",
              "      <td>0</td>\n",
              "      <td>0</td>\n",
              "    </tr>\n",
              "    <tr>\n",
              "      <th>32559</th>\n",
              "      <td>0.244444</td>\n",
              "      <td>0.135710</td>\n",
              "      <td>0.5625</td>\n",
              "      <td>0</td>\n",
              "      <td>0.000000</td>\n",
              "      <td>0.0</td>\n",
              "      <td>0.202020</td>\n",
              "      <td>0</td>\n",
              "      <td>0</td>\n",
              "      <td>0</td>\n",
              "      <td>...</td>\n",
              "      <td>0</td>\n",
              "      <td>0</td>\n",
              "      <td>0</td>\n",
              "      <td>0</td>\n",
              "      <td>0</td>\n",
              "      <td>0</td>\n",
              "      <td>0</td>\n",
              "      <td>1</td>\n",
              "      <td>0</td>\n",
              "      <td>0</td>\n",
              "    </tr>\n",
              "    <tr>\n",
              "      <th>32560</th>\n",
              "      <td>0.577778</td>\n",
              "      <td>0.193929</td>\n",
              "      <td>0.5625</td>\n",
              "      <td>1</td>\n",
              "      <td>0.150242</td>\n",
              "      <td>0.0</td>\n",
              "      <td>0.404040</td>\n",
              "      <td>1</td>\n",
              "      <td>0</td>\n",
              "      <td>0</td>\n",
              "      <td>...</td>\n",
              "      <td>0</td>\n",
              "      <td>0</td>\n",
              "      <td>0</td>\n",
              "      <td>0</td>\n",
              "      <td>0</td>\n",
              "      <td>0</td>\n",
              "      <td>0</td>\n",
              "      <td>1</td>\n",
              "      <td>0</td>\n",
              "      <td>0</td>\n",
              "    </tr>\n",
              "  </tbody>\n",
              "</table>\n",
              "<p>32561 rows × 87 columns</p>\n",
              "</div>\n",
              "      <button class=\"colab-df-convert\" onclick=\"convertToInteractive('df-c1ef1a1a-a4e8-48bc-bb39-203ca513ef01')\"\n",
              "              title=\"Convert this dataframe to an interactive table.\"\n",
              "              style=\"display:none;\">\n",
              "        \n",
              "  <svg xmlns=\"http://www.w3.org/2000/svg\" height=\"24px\"viewBox=\"0 0 24 24\"\n",
              "       width=\"24px\">\n",
              "    <path d=\"M0 0h24v24H0V0z\" fill=\"none\"/>\n",
              "    <path d=\"M18.56 5.44l.94 2.06.94-2.06 2.06-.94-2.06-.94-.94-2.06-.94 2.06-2.06.94zm-11 1L8.5 8.5l.94-2.06 2.06-.94-2.06-.94L8.5 2.5l-.94 2.06-2.06.94zm10 10l.94 2.06.94-2.06 2.06-.94-2.06-.94-.94-2.06-.94 2.06-2.06.94z\"/><path d=\"M17.41 7.96l-1.37-1.37c-.4-.4-.92-.59-1.43-.59-.52 0-1.04.2-1.43.59L10.3 9.45l-7.72 7.72c-.78.78-.78 2.05 0 2.83L4 21.41c.39.39.9.59 1.41.59.51 0 1.02-.2 1.41-.59l7.78-7.78 2.81-2.81c.8-.78.8-2.07 0-2.86zM5.41 20L4 18.59l7.72-7.72 1.47 1.35L5.41 20z\"/>\n",
              "  </svg>\n",
              "      </button>\n",
              "      \n",
              "  <style>\n",
              "    .colab-df-container {\n",
              "      display:flex;\n",
              "      flex-wrap:wrap;\n",
              "      gap: 12px;\n",
              "    }\n",
              "\n",
              "    .colab-df-convert {\n",
              "      background-color: #E8F0FE;\n",
              "      border: none;\n",
              "      border-radius: 50%;\n",
              "      cursor: pointer;\n",
              "      display: none;\n",
              "      fill: #1967D2;\n",
              "      height: 32px;\n",
              "      padding: 0 0 0 0;\n",
              "      width: 32px;\n",
              "    }\n",
              "\n",
              "    .colab-df-convert:hover {\n",
              "      background-color: #E2EBFA;\n",
              "      box-shadow: 0px 1px 2px rgba(60, 64, 67, 0.3), 0px 1px 3px 1px rgba(60, 64, 67, 0.15);\n",
              "      fill: #174EA6;\n",
              "    }\n",
              "\n",
              "    [theme=dark] .colab-df-convert {\n",
              "      background-color: #3B4455;\n",
              "      fill: #D2E3FC;\n",
              "    }\n",
              "\n",
              "    [theme=dark] .colab-df-convert:hover {\n",
              "      background-color: #434B5C;\n",
              "      box-shadow: 0px 1px 3px 1px rgba(0, 0, 0, 0.15);\n",
              "      filter: drop-shadow(0px 1px 2px rgba(0, 0, 0, 0.3));\n",
              "      fill: #FFFFFF;\n",
              "    }\n",
              "  </style>\n",
              "\n",
              "      <script>\n",
              "        const buttonEl =\n",
              "          document.querySelector('#df-c1ef1a1a-a4e8-48bc-bb39-203ca513ef01 button.colab-df-convert');\n",
              "        buttonEl.style.display =\n",
              "          google.colab.kernel.accessAllowed ? 'block' : 'none';\n",
              "\n",
              "        async function convertToInteractive(key) {\n",
              "          const element = document.querySelector('#df-c1ef1a1a-a4e8-48bc-bb39-203ca513ef01');\n",
              "          const dataTable =\n",
              "            await google.colab.kernel.invokeFunction('convertToInteractive',\n",
              "                                                     [key], {});\n",
              "          if (!dataTable) return;\n",
              "\n",
              "          const docLinkHtml = 'Like what you see? Visit the ' +\n",
              "            '<a target=\"_blank\" href=https://colab.research.google.com/notebooks/data_table.ipynb>data table notebook</a>'\n",
              "            + ' to learn more about interactive tables.';\n",
              "          element.innerHTML = '';\n",
              "          dataTable['output_type'] = 'display_data';\n",
              "          await google.colab.output.renderOutput(dataTable, element);\n",
              "          const docLink = document.createElement('div');\n",
              "          docLink.innerHTML = docLinkHtml;\n",
              "          element.appendChild(docLink);\n",
              "        }\n",
              "      </script>\n",
              "    </div>\n",
              "  </div>\n",
              "  "
            ]
          },
          "metadata": {},
          "execution_count": 818
        }
      ]
    },
    {
      "cell_type": "code",
      "source": [
        "df[df.isnull().any(axis=1)]"
      ],
      "metadata": {
        "colab": {
          "base_uri": "https://localhost:8080/"
        },
        "id": "UDFCQU8RXkUe",
        "outputId": "e1b69e2b-a8a0-4f6c-e925-7b27693393d2"
      },
      "execution_count": null,
      "outputs": [
        {
          "output_type": "execute_result",
          "data": {
            "text/plain": [
              "Empty DataFrame\n",
              "Columns: [age, fnlwgt, education-num, is_female, capital-gain, capital-loss, hours-per-week, salary_greater_than_50k, workclass=Federal-gov, workclass=Local-gov, workclass=Private, workclass=Self-emp, workclass=State-gov, workclass=Without-pay, education=Above Intermediate, education=Bachelors, education=Doctorate, education=Intermediate Education, education=Low Education, education=Masters, marital-status=Married, marital-status=Never-married, marital-status=Other, occupation=Adm-clerical, occupation=Armed-Forces, occupation=Craft-repair, occupation=Exec-managerial, occupation=Farming-fishing, occupation=Handlers-cleaners, occupation=Machine-op-inspct, occupation=Other-service, occupation=Priv-house-serv, occupation=Prof-specialty, occupation=Protective-serv, occupation=Sales, occupation=Tech-support, occupation=Transport-moving, relationship=Husband, relationship=Not-in-family, relationship=Other-relative, relationship=Own-child, relationship=Unmarried, relationship=Wife, race=Black, race=Other, race=White, native-country=Cambodia, native-country=Canada, native-country=China, native-country=Columbia, native-country=Cuba, native-country=Dominican-Republic, native-country=Ecuador, native-country=El-Salvador, native-country=England, native-country=France, native-country=Germany, native-country=Greece, native-country=Guatemala, native-country=Haiti, native-country=Holand-Netherlands, native-country=Honduras, native-country=Hong, native-country=Hungary, native-country=India, native-country=Iran, native-country=Ireland, native-country=Italy, native-country=Jamaica, native-country=Japan, native-country=Laos, native-country=Mexico, native-country=Nicaragua, native-country=Outlying-US(Guam-USVI-etc), native-country=Peru, native-country=Philippines, native-country=Poland, native-country=Portugal, native-country=Puerto-Rico, native-country=Scotland, native-country=South, native-country=Taiwan, native-country=Thailand, native-country=Trinadad&Tobago, native-country=United-States, native-country=Vietnam, native-country=Yugoslavia]\n",
              "Index: []\n",
              "\n",
              "[0 rows x 87 columns]"
            ],
            "text/html": [
              "\n",
              "  <div id=\"df-0a682bc1-2988-4b67-a5a1-f86b8e51978b\">\n",
              "    <div class=\"colab-df-container\">\n",
              "      <div>\n",
              "<style scoped>\n",
              "    .dataframe tbody tr th:only-of-type {\n",
              "        vertical-align: middle;\n",
              "    }\n",
              "\n",
              "    .dataframe tbody tr th {\n",
              "        vertical-align: top;\n",
              "    }\n",
              "\n",
              "    .dataframe thead th {\n",
              "        text-align: right;\n",
              "    }\n",
              "</style>\n",
              "<table border=\"1\" class=\"dataframe\">\n",
              "  <thead>\n",
              "    <tr style=\"text-align: right;\">\n",
              "      <th></th>\n",
              "      <th>age</th>\n",
              "      <th>fnlwgt</th>\n",
              "      <th>education-num</th>\n",
              "      <th>is_female</th>\n",
              "      <th>capital-gain</th>\n",
              "      <th>capital-loss</th>\n",
              "      <th>hours-per-week</th>\n",
              "      <th>salary_greater_than_50k</th>\n",
              "      <th>workclass=Federal-gov</th>\n",
              "      <th>workclass=Local-gov</th>\n",
              "      <th>...</th>\n",
              "      <th>native-country=Portugal</th>\n",
              "      <th>native-country=Puerto-Rico</th>\n",
              "      <th>native-country=Scotland</th>\n",
              "      <th>native-country=South</th>\n",
              "      <th>native-country=Taiwan</th>\n",
              "      <th>native-country=Thailand</th>\n",
              "      <th>native-country=Trinadad&amp;Tobago</th>\n",
              "      <th>native-country=United-States</th>\n",
              "      <th>native-country=Vietnam</th>\n",
              "      <th>native-country=Yugoslavia</th>\n",
              "    </tr>\n",
              "  </thead>\n",
              "  <tbody>\n",
              "  </tbody>\n",
              "</table>\n",
              "<p>0 rows × 87 columns</p>\n",
              "</div>\n",
              "      <button class=\"colab-df-convert\" onclick=\"convertToInteractive('df-0a682bc1-2988-4b67-a5a1-f86b8e51978b')\"\n",
              "              title=\"Convert this dataframe to an interactive table.\"\n",
              "              style=\"display:none;\">\n",
              "        \n",
              "  <svg xmlns=\"http://www.w3.org/2000/svg\" height=\"24px\"viewBox=\"0 0 24 24\"\n",
              "       width=\"24px\">\n",
              "    <path d=\"M0 0h24v24H0V0z\" fill=\"none\"/>\n",
              "    <path d=\"M18.56 5.44l.94 2.06.94-2.06 2.06-.94-2.06-.94-.94-2.06-.94 2.06-2.06.94zm-11 1L8.5 8.5l.94-2.06 2.06-.94-2.06-.94L8.5 2.5l-.94 2.06-2.06.94zm10 10l.94 2.06.94-2.06 2.06-.94-2.06-.94-.94-2.06-.94 2.06-2.06.94z\"/><path d=\"M17.41 7.96l-1.37-1.37c-.4-.4-.92-.59-1.43-.59-.52 0-1.04.2-1.43.59L10.3 9.45l-7.72 7.72c-.78.78-.78 2.05 0 2.83L4 21.41c.39.39.9.59 1.41.59.51 0 1.02-.2 1.41-.59l7.78-7.78 2.81-2.81c.8-.78.8-2.07 0-2.86zM5.41 20L4 18.59l7.72-7.72 1.47 1.35L5.41 20z\"/>\n",
              "  </svg>\n",
              "      </button>\n",
              "      \n",
              "  <style>\n",
              "    .colab-df-container {\n",
              "      display:flex;\n",
              "      flex-wrap:wrap;\n",
              "      gap: 12px;\n",
              "    }\n",
              "\n",
              "    .colab-df-convert {\n",
              "      background-color: #E8F0FE;\n",
              "      border: none;\n",
              "      border-radius: 50%;\n",
              "      cursor: pointer;\n",
              "      display: none;\n",
              "      fill: #1967D2;\n",
              "      height: 32px;\n",
              "      padding: 0 0 0 0;\n",
              "      width: 32px;\n",
              "    }\n",
              "\n",
              "    .colab-df-convert:hover {\n",
              "      background-color: #E2EBFA;\n",
              "      box-shadow: 0px 1px 2px rgba(60, 64, 67, 0.3), 0px 1px 3px 1px rgba(60, 64, 67, 0.15);\n",
              "      fill: #174EA6;\n",
              "    }\n",
              "\n",
              "    [theme=dark] .colab-df-convert {\n",
              "      background-color: #3B4455;\n",
              "      fill: #D2E3FC;\n",
              "    }\n",
              "\n",
              "    [theme=dark] .colab-df-convert:hover {\n",
              "      background-color: #434B5C;\n",
              "      box-shadow: 0px 1px 3px 1px rgba(0, 0, 0, 0.15);\n",
              "      filter: drop-shadow(0px 1px 2px rgba(0, 0, 0, 0.3));\n",
              "      fill: #FFFFFF;\n",
              "    }\n",
              "  </style>\n",
              "\n",
              "      <script>\n",
              "        const buttonEl =\n",
              "          document.querySelector('#df-0a682bc1-2988-4b67-a5a1-f86b8e51978b button.colab-df-convert');\n",
              "        buttonEl.style.display =\n",
              "          google.colab.kernel.accessAllowed ? 'block' : 'none';\n",
              "\n",
              "        async function convertToInteractive(key) {\n",
              "          const element = document.querySelector('#df-0a682bc1-2988-4b67-a5a1-f86b8e51978b');\n",
              "          const dataTable =\n",
              "            await google.colab.kernel.invokeFunction('convertToInteractive',\n",
              "                                                     [key], {});\n",
              "          if (!dataTable) return;\n",
              "\n",
              "          const docLinkHtml = 'Like what you see? Visit the ' +\n",
              "            '<a target=\"_blank\" href=https://colab.research.google.com/notebooks/data_table.ipynb>data table notebook</a>'\n",
              "            + ' to learn more about interactive tables.';\n",
              "          element.innerHTML = '';\n",
              "          dataTable['output_type'] = 'display_data';\n",
              "          await google.colab.output.renderOutput(dataTable, element);\n",
              "          const docLink = document.createElement('div');\n",
              "          docLink.innerHTML = docLinkHtml;\n",
              "          element.appendChild(docLink);\n",
              "        }\n",
              "      </script>\n",
              "    </div>\n",
              "  </div>\n",
              "  "
            ]
          },
          "metadata": {},
          "execution_count": 819
        }
      ]
    },
    {
      "cell_type": "code",
      "source": [
        "df = df.fillna(value=0)"
      ],
      "metadata": {
        "id": "6M5HOApaFPkt"
      },
      "execution_count": null,
      "outputs": []
    },
    {
      "cell_type": "code",
      "source": [
        "X = df.drop('salary_greater_than_50k', axis=1)\n",
        "Y = df.loc[:,'salary_greater_than_50k']"
      ],
      "metadata": {
        "id": "Y0rppSWPYIW8"
      },
      "execution_count": null,
      "outputs": []
    },
    {
      "cell_type": "code",
      "source": [
        "X_train, X_test, Y_train, Y_test = train_test_split(X, Y, test_size=0.2)"
      ],
      "metadata": {
        "id": "PtJfd9z8bznR"
      },
      "execution_count": null,
      "outputs": []
    },
    {
      "cell_type": "code",
      "source": [
        "Y_test.shape"
      ],
      "metadata": {
        "colab": {
          "base_uri": "https://localhost:8080/"
        },
        "id": "EBH3sw8vb4bi",
        "outputId": "43eb5c91-8817-4d8d-dd55-d86e8ac9127e"
      },
      "execution_count": null,
      "outputs": [
        {
          "output_type": "execute_result",
          "data": {
            "text/plain": [
              "(6513,)"
            ]
          },
          "metadata": {},
          "execution_count": 823
        }
      ]
    },
    {
      "cell_type": "markdown",
      "source": [
        "## Random Forest"
      ],
      "metadata": {
        "id": "ax7qutGZuDI2"
      }
    },
    {
      "cell_type": "code",
      "source": [
        "cls = RandomForestClassifier()\n",
        "model = cls.fit(X_train, Y_train)"
      ],
      "metadata": {
        "id": "S_8dzGB4b768"
      },
      "execution_count": null,
      "outputs": []
    },
    {
      "cell_type": "code",
      "source": [
        "def validate_model(x, y, cls):\n",
        "  y_pred = cls.predict(x)\n",
        "  acc = accuracy_score(y, y_pred)\n",
        "  roc = roc_auc_score(y, y_pred)\n",
        "\n",
        "  return (acc, roc)"
      ],
      "metadata": {
        "id": "uqlGZHo9nUsA"
      },
      "execution_count": null,
      "outputs": []
    },
    {
      "cell_type": "code",
      "source": [
        "validate_model(X_test, Y_test, cls)"
      ],
      "metadata": {
        "colab": {
          "base_uri": "https://localhost:8080/"
        },
        "id": "xpy0Z5Mfn4sD",
        "outputId": "4c0d6d2e-dbea-40b2-ec95-5e9a24ceeaa0"
      },
      "execution_count": null,
      "outputs": [
        {
          "output_type": "execute_result",
          "data": {
            "text/plain": [
              "(0.8499923230462153, 0.7690345827049316)"
            ]
          },
          "metadata": {},
          "execution_count": 826
        }
      ]
    },
    {
      "cell_type": "code",
      "source": [
        "validate_model(X_train, Y_train, cls)"
      ],
      "metadata": {
        "colab": {
          "base_uri": "https://localhost:8080/"
        },
        "id": "qdC_QK3noAGo",
        "outputId": "ce7c1120-9573-415c-852c-275e568fbd71"
      },
      "execution_count": null,
      "outputs": [
        {
          "output_type": "execute_result",
          "data": {
            "text/plain": [
              "(0.9999232186732187, 0.9998402045381911)"
            ]
          },
          "metadata": {},
          "execution_count": 827
        }
      ]
    },
    {
      "cell_type": "code",
      "source": [
        "def train_model(max_depth, X_train, Y_train, X_test, Y_test):\n",
        "  \n",
        "  cls = RandomForestClassifier(max_depth=max_depth)\n",
        "  cls.fit(X_train, Y_train)\n",
        "  perf_train = validate_model(X_train, Y_train, cls)\n",
        "  perf_test = validate_model(X_test, Y_test, cls)\n",
        "\n",
        "  return perf_train, perf_test, cls"
      ],
      "metadata": {
        "id": "zw89Jwf88XEU"
      },
      "execution_count": null,
      "outputs": []
    },
    {
      "cell_type": "code",
      "source": [
        "results = []\n",
        "\n",
        "for d in tqdm(range(2,30)):\n",
        "  results.append((d, train_model(d, X_train, Y_train, X_test, Y_test)))"
      ],
      "metadata": {
        "colab": {
          "base_uri": "https://localhost:8080/"
        },
        "id": "guuV_jE68xcU",
        "outputId": "f8a74b18-9b9a-442a-d977-e2caf088744e"
      },
      "execution_count": null,
      "outputs": [
        {
          "output_type": "stream",
          "name": "stderr",
          "text": [
            "100%|██████████| 28/28 [01:17<00:00,  2.76s/it]\n"
          ]
        }
      ]
    },
    {
      "cell_type": "code",
      "source": [
        "plt.plot([x[0] for x in results], [x[1][0][1] for x in results], label='train')\n",
        "plt.plot([x[0] for x in results], [x[1][1][1] for x in results], label='test')\n",
        "plt.legend()\n",
        "plt.show()"
      ],
      "metadata": {
        "id": "1OYO1Ho580wk",
        "colab": {
          "base_uri": "https://localhost:8080/",
          "height": 265
        },
        "outputId": "67772734-941e-47ac-958c-3a23ba6278ca"
      },
      "execution_count": null,
      "outputs": [
        {
          "output_type": "display_data",
          "data": {
            "text/plain": [
              "<Figure size 432x288 with 1 Axes>"
            ],
            "image/png": "[encoded data removed]"
          },
          "metadata": {}
        }
      ]
    },
    {
      "cell_type": "code",
      "source": [
        "best_model = results[27][1][2]\n",
        "best_model"
      ],
      "metadata": {
        "id": "Kusc0V6TENsL",
        "colab": {
          "base_uri": "https://localhost:8080/"
        },
        "outputId": "2cdc4431-b9fb-460d-a032-f95365c6bb2c"
      },
      "execution_count": null,
      "outputs": [
        {
          "output_type": "execute_result",
          "data": {
            "text/plain": [
              "RandomForestClassifier(max_depth=29)"
            ]
          },
          "metadata": {},
          "execution_count": 831
        }
      ]
    },
    {
      "cell_type": "code",
      "source": [
        "y_pred = best_model.predict(X)\n",
        "\n",
        "ConfusionMatrixDisplay.from_predictions(Y, y_pred, normalize='pred')\n",
        "plt.grid(False)\n",
        "plt.show()"
      ],
      "metadata": {
        "id": "T6of5wYkEnfC",
        "colab": {
          "base_uri": "https://localhost:8080/",
          "height": 282
        },
        "outputId": "0a86ec25-6744-499f-c620-1fe46ca1579a"
      },
      "execution_count": null,
      "outputs": [
        {
          "output_type": "display_data",
          "data": {
            "text/plain": [
              "<Figure size 432x288 with 2 Axes>"
            ],
            "image/png": "[encoded data removed]"
          },
          "metadata": {}
        }
      ]
    },
    {
      "cell_type": "markdown",
      "source": [
        "Cross Validation Score"
      ],
      "metadata": {
        "id": "kbJ2w0jPQts2"
      }
    },
    {
      "cell_type": "code",
      "source": [
        "cvs = cross_val_score(cls , X, Y, cv=5, scoring='accuracy')\n",
        "print(f'CVS: {cvs}')\n",
        "print(f'CVS Mean: {cvs.mean()}')\n",
        "print(f'CVS Standard Deviation: {cvs.std()}')"
      ],
      "metadata": {
        "id": "siOe8OhyQr-e",
        "colab": {
          "base_uri": "https://localhost:8080/"
        },
        "outputId": "c30b1dfb-4d14-4956-a358-524461077fc5"
      },
      "execution_count": null,
      "outputs": [
        {
          "output_type": "stream",
          "name": "stdout",
          "text": [
            "CVS: [0.85137417 0.84551597 0.85165848 0.85687961 0.85304054]\n",
            "CVS Mean: 0.8516937538644125\n",
            "CVS Standard Deviation: 0.003659925907788639\n"
          ]
        }
      ]
    },
    {
      "cell_type": "markdown",
      "source": [
        "K-Nearest Neighbors"
      ],
      "metadata": {
        "id": "lYzb1OsKz6UI"
      }
    },
    {
      "cell_type": "code",
      "source": [
        "knn = KNeighborsClassifier()\n",
        "madel2 = knn.fit(X_train, Y_train)"
      ],
      "metadata": {
        "id": "_46pl4c5AGJY"
      },
      "execution_count": null,
      "outputs": []
    },
    {
      "cell_type": "code",
      "source": [
        "def validate_model2(x, y, knn):\n",
        "  y_pred = knn.predict(x)\n",
        "  acc = accuracy_score(y, y_pred)\n",
        "  roc = roc_auc_score(y, y_pred)\n",
        "\n",
        "  return (acc, roc)"
      ],
      "metadata": {
        "id": "Fb2vW_DPz6BF"
      },
      "execution_count": null,
      "outputs": []
    },
    {
      "cell_type": "code",
      "source": [
        "validate_model2(X_test, Y_test, knn)"
      ],
      "metadata": {
        "id": "hHKt677DTQoq",
        "colab": {
          "base_uri": "https://localhost:8080/"
        },
        "outputId": "103e73b5-41f4-41bb-ee61-deaf4c3eda75"
      },
      "execution_count": null,
      "outputs": [
        {
          "output_type": "execute_result",
          "data": {
            "text/plain": [
              "(0.8265008444649163, 0.7438677172134457)"
            ]
          },
          "metadata": {},
          "execution_count": 836
        }
      ]
    },
    {
      "cell_type": "code",
      "source": [
        "validate_model2(X_train, Y_train, knn)"
      ],
      "metadata": {
        "id": "CCwmM0ezS6RM",
        "colab": {
          "base_uri": "https://localhost:8080/"
        },
        "outputId": "f923cc49-542c-4075-ff21-7dc2e602f9a9"
      },
      "execution_count": null,
      "outputs": [
        {
          "output_type": "execute_result",
          "data": {
            "text/plain": [
              "(0.8759213759213759, 0.8085860144492564)"
            ]
          },
          "metadata": {},
          "execution_count": 837
        }
      ]
    },
    {
      "cell_type": "code",
      "source": [
        "y_pred = knn.predict(X_test)\n",
        "cm = confusion_matrix(Y_test, y_pred)\n",
        "\n",
        "disp = ConfusionMatrixDisplay(confusion_matrix=cm)\n",
        "disp.plot()\n",
        "plt.grid(False)\n",
        "plt.show()"
      ],
      "metadata": {
        "id": "b1I94495ROdB",
        "colab": {
          "base_uri": "https://localhost:8080/",
          "height": 282
        },
        "outputId": "07bfc1ce-5b63-4d23-add6-04b253d8c529"
      },
      "execution_count": null,
      "outputs": [
        {
          "output_type": "display_data",
          "data": {
            "text/plain": [
              "<Figure size 432x288 with 2 Axes>"
            ],
            "image/png": "[encoded data removed]"
          },
          "metadata": {}
        }
      ]
    },
    {
      "cell_type": "markdown",
      "source": [
        "Hyper-parameter"
      ],
      "metadata": {
        "id": "A00YzKXpOUhc"
      }
    },
    {
      "cell_type": "code",
      "source": [
        "accuracy=[]\n",
        "for i in range(1,21):\n",
        "    knn = KNeighborsClassifier(n_neighbors=i)\n",
        "    knn.fit(X_train,Y_train)\n",
        "    y_pred = knn.predict(X_test)\n",
        "    ac = accuracy_score(Y_test,y_pred)\n",
        "    accuracy.append(ac)"
      ],
      "metadata": {
        "id": "tEV8H990OavG"
      },
      "execution_count": null,
      "outputs": []
    },
    {
      "cell_type": "code",
      "source": [
        "plt.plot(range(1,21), accuracy)\n",
        "plt.show()"
      ],
      "metadata": {
        "id": "X2sQlPV7Oa4A",
        "colab": {
          "base_uri": "https://localhost:8080/",
          "height": 265
        },
        "outputId": "f0d755a3-671d-4d34-8633-d5fc61ab4b08"
      },
      "execution_count": null,
      "outputs": [
        {
          "output_type": "display_data",
          "data": {
            "text/plain": [
              "<Figure size 432x288 with 1 Axes>"
            ],
            "image/png": "[encoded data removed]"
          },
          "metadata": {}
        }
      ]
    },
    {
      "cell_type": "code",
      "source": [
        "knn = KNeighborsClassifier(n_neighbors=5)\n",
        "knn.fit(X_train,Y_train)\n",
        "y_pred = knn.predict(X_test)"
      ],
      "metadata": {
        "id": "NriJ3v3kOa6p"
      },
      "execution_count": null,
      "outputs": []
    },
    {
      "cell_type": "code",
      "source": [
        "validate_model2(X_test, Y_test, knn)"
      ],
      "metadata": {
        "id": "cmFsj809Oa9I",
        "colab": {
          "base_uri": "https://localhost:8080/"
        },
        "outputId": "77d918e4-697f-4ed4-814a-67e2fa396072"
      },
      "execution_count": null,
      "outputs": [
        {
          "output_type": "execute_result",
          "data": {
            "text/plain": [
              "(0.8265008444649163, 0.7438677172134457)"
            ]
          },
          "metadata": {},
          "execution_count": 842
        }
      ]
    },
    {
      "cell_type": "code",
      "source": [
        "validate_model2(X_train, Y_train, knn)"
      ],
      "metadata": {
        "id": "b6xlMQXIObAj",
        "colab": {
          "base_uri": "https://localhost:8080/"
        },
        "outputId": "c7be2058-a03a-491b-929d-912b6cc47b9f"
      },
      "execution_count": null,
      "outputs": [
        {
          "output_type": "execute_result",
          "data": {
            "text/plain": [
              "(0.8759213759213759, 0.8085860144492564)"
            ]
          },
          "metadata": {},
          "execution_count": 843
        }
      ]
    },
    {
      "cell_type": "code",
      "source": [
        "y_pred = knn.predict(X_test)\n",
        "cm = confusion_matrix(Y_test, y_pred)\n",
        "\n",
        "disp = ConfusionMatrixDisplay(confusion_matrix=cm)\n",
        "disp.plot()\n",
        "plt.grid(False)\n",
        "plt.show()"
      ],
      "metadata": {
        "id": "hcKbouOhPRoH",
        "colab": {
          "base_uri": "https://localhost:8080/",
          "height": 282
        },
        "outputId": "3b973c52-b2fa-4b9a-995f-191f98576a8b"
      },
      "execution_count": null,
      "outputs": [
        {
          "output_type": "display_data",
          "data": {
            "text/plain": [
              "<Figure size 432x288 with 2 Axes>"
            ],
            "image/png": "[encoded data removed]"
          },
          "metadata": {}
        }
      ]
    },
    {
      "cell_type": "markdown",
      "source": [
        "Cross Validation Score"
      ],
      "metadata": {
        "id": "yVrBHzRYRxRP"
      }
    },
    {
      "cell_type": "code",
      "source": [
        "cvs = cross_val_score(knn , X, Y, cv=5, scoring='accuracy')\n",
        "print(f'CVS: {cvs}')\n",
        "print(f'CVS Mean: {cvs.mean()}')\n",
        "print(f'CVS Standard Deviation: {cvs.std()}')"
      ],
      "metadata": {
        "id": "mfbiDcq3Rv4E",
        "colab": {
          "base_uri": "https://localhost:8080/"
        },
        "outputId": "1bbfe36a-a9bd-49ee-b9f1-d4767ae23ae9"
      },
      "execution_count": null,
      "outputs": [
        {
          "output_type": "stream",
          "name": "stdout",
          "text": [
            "CVS: [0.81974513 0.82324939 0.82202088 0.82693489 0.82585995]\n",
            "CVS Mean: 0.8235620471398913\n",
            "CVS Standard Deviation: 0.0025960839590945207\n"
          ]
        }
      ]
    },
    {
      "cell_type": "markdown",
      "source": [
        "## TensorFlow"
      ],
      "metadata": {
        "id": "Dw4wEtGsZX5x"
      }
    },
    {
      "cell_type": "code",
      "source": [
        "model = tf.keras.models.Sequential([\n",
        "  tf.keras.layers.Dense(128, activation='relu', input_shape=(86,)),          \n",
        "  tf.keras.layers.Dropout(0.2),                          \n",
        "  tf.keras.layers.Dense(64, activation='relu',),                                    \n",
        "  tf.keras.layers.Dense(32, activation='relu',),                                  \n",
        "  tf.keras.layers.Dense(1, activation='sigmoid',)                                    \n",
        "])"
      ],
      "metadata": {
        "id": "XIPMqOs-Zm6p"
      },
      "execution_count": null,
      "outputs": []
    },
    {
      "cell_type": "code",
      "source": [
        "model.compile(optimizer=tf.keras.optimizers.Adam(), \n",
        "              loss=tf.keras.losses.BinaryCrossentropy(from_logits=False),\n",
        "              metrics=[tf.keras.metrics.BinaryAccuracy(threshold=0.5, name='acc'),\n",
        "              tf.keras.metrics.AUC(name='auc')]\n",
        "              )"
      ],
      "metadata": {
        "id": "24YD-eMrZt-J"
      },
      "execution_count": null,
      "outputs": []
    },
    {
      "cell_type": "code",
      "source": [
        "training = model.fit(X_train, Y_train, epochs=50, batch_size=16, validation_data=(X_test, Y_test))"
      ],
      "metadata": {
        "id": "TKnILOawZuju",
        "colab": {
          "base_uri": "https://localhost:8080/"
        },
        "outputId": "1d380301-35e8-476e-c709-4b65d4210a06"
      },
      "execution_count": null,
      "outputs": [
        {
          "output_type": "stream",
          "name": "stdout",
          "text": [
            "Epoch 1/50\n",
            "1628/1628 [==============================] - 7s 4ms/step - loss: 0.3674 - acc: 0.8285 - auc: 0.8723 - val_loss: 0.3455 - val_acc: 0.8445 - val_auc: 0.8919\n",
            "Epoch 2/50\n",
            "1628/1628 [==============================] - 7s 4ms/step - loss: 0.3373 - acc: 0.8429 - auc: 0.8946 - val_loss: 0.3375 - val_acc: 0.8442 - val_auc: 0.8975\n",
            "Epoch 3/50\n",
            "1628/1628 [==============================] - 5s 3ms/step - loss: 0.3252 - acc: 0.8497 - auc: 0.9025 - val_loss: 0.3361 - val_acc: 0.8471 - val_auc: 0.8996\n",
            "Epoch 4/50\n",
            "1628/1628 [==============================] - 4s 2ms/step - loss: 0.3196 - acc: 0.8522 - auc: 0.9060 - val_loss: 0.3366 - val_acc: 0.8417 - val_auc: 0.8997\n",
            "Epoch 5/50\n",
            "1628/1628 [==============================] - 4s 2ms/step - loss: 0.3152 - acc: 0.8528 - auc: 0.9084 - val_loss: 0.3314 - val_acc: 0.8486 - val_auc: 0.9013\n",
            "Epoch 6/50\n",
            "1628/1628 [==============================] - 4s 2ms/step - loss: 0.3118 - acc: 0.8528 - auc: 0.9106 - val_loss: 0.3335 - val_acc: 0.8443 - val_auc: 0.9001\n",
            "Epoch 7/50\n",
            "1628/1628 [==============================] - 4s 3ms/step - loss: 0.3092 - acc: 0.8559 - auc: 0.9120 - val_loss: 0.3358 - val_acc: 0.8477 - val_auc: 0.9022\n",
            "Epoch 8/50\n",
            "1628/1628 [==============================] - 5s 3ms/step - loss: 0.3066 - acc: 0.8560 - auc: 0.9139 - val_loss: 0.3345 - val_acc: 0.8481 - val_auc: 0.9007\n",
            "Epoch 9/50\n",
            "1628/1628 [==============================] - 7s 4ms/step - loss: 0.3047 - acc: 0.8577 - auc: 0.9149 - val_loss: 0.3347 - val_acc: 0.8475 - val_auc: 0.9015\n",
            "Epoch 10/50\n",
            "1628/1628 [==============================] - 7s 4ms/step - loss: 0.3029 - acc: 0.8569 - auc: 0.9158 - val_loss: 0.3475 - val_acc: 0.8486 - val_auc: 0.8991\n",
            "Epoch 11/50\n",
            "1628/1628 [==============================] - 5s 3ms/step - loss: 0.3006 - acc: 0.8601 - auc: 0.9170 - val_loss: 0.3456 - val_acc: 0.8495 - val_auc: 0.8981\n",
            "Epoch 12/50\n",
            "1628/1628 [==============================] - 4s 2ms/step - loss: 0.2985 - acc: 0.8616 - auc: 0.9183 - val_loss: 0.3447 - val_acc: 0.8475 - val_auc: 0.8990\n",
            "Epoch 13/50\n",
            "1628/1628 [==============================] - 4s 2ms/step - loss: 0.2973 - acc: 0.8608 - auc: 0.9191 - val_loss: 0.3452 - val_acc: 0.8478 - val_auc: 0.9000\n",
            "Epoch 14/50\n",
            "1628/1628 [==============================] - 5s 3ms/step - loss: 0.2943 - acc: 0.8623 - auc: 0.9207 - val_loss: 0.3479 - val_acc: 0.8477 - val_auc: 0.8971\n",
            "Epoch 15/50\n",
            "1628/1628 [==============================] - 7s 5ms/step - loss: 0.2933 - acc: 0.8610 - auc: 0.9214 - val_loss: 0.3464 - val_acc: 0.8489 - val_auc: 0.8974\n",
            "Epoch 16/50\n",
            "1628/1628 [==============================] - 7s 4ms/step - loss: 0.2907 - acc: 0.8633 - auc: 0.9226 - val_loss: 0.3471 - val_acc: 0.8503 - val_auc: 0.8996\n",
            "Epoch 17/50\n",
            "1628/1628 [==============================] - 5s 3ms/step - loss: 0.2890 - acc: 0.8629 - auc: 0.9233 - val_loss: 0.3557 - val_acc: 0.8451 - val_auc: 0.8962\n",
            "Epoch 18/50\n",
            "1628/1628 [==============================] - 4s 3ms/step - loss: 0.2876 - acc: 0.8644 - auc: 0.9237 - val_loss: 0.3542 - val_acc: 0.8494 - val_auc: 0.8981\n",
            "Epoch 19/50\n",
            "1628/1628 [==============================] - 6s 4ms/step - loss: 0.2855 - acc: 0.8623 - auc: 0.9248 - val_loss: 0.3499 - val_acc: 0.8517 - val_auc: 0.8992\n",
            "Epoch 20/50\n",
            "1628/1628 [==============================] - 6s 4ms/step - loss: 0.2827 - acc: 0.8656 - auc: 0.9264 - val_loss: 0.3688 - val_acc: 0.8505 - val_auc: 0.8935\n",
            "Epoch 21/50\n",
            "1628/1628 [==============================] - 7s 4ms/step - loss: 0.2836 - acc: 0.8662 - auc: 0.9258 - val_loss: 0.3577 - val_acc: 0.8483 - val_auc: 0.8979\n",
            "Epoch 22/50\n",
            "1628/1628 [==============================] - 7s 4ms/step - loss: 0.2812 - acc: 0.8651 - auc: 0.9272 - val_loss: 0.3742 - val_acc: 0.8472 - val_auc: 0.8933\n",
            "Epoch 23/50\n",
            "1628/1628 [==============================] - 4s 3ms/step - loss: 0.2806 - acc: 0.8672 - auc: 0.9272 - val_loss: 0.3807 - val_acc: 0.8485 - val_auc: 0.8934\n",
            "Epoch 24/50\n",
            "1628/1628 [==============================] - 4s 2ms/step - loss: 0.2788 - acc: 0.8669 - auc: 0.9280 - val_loss: 0.3714 - val_acc: 0.8505 - val_auc: 0.8952\n",
            "Epoch 25/50\n",
            "1628/1628 [==============================] - 4s 2ms/step - loss: 0.2793 - acc: 0.8683 - auc: 0.9283 - val_loss: 0.3723 - val_acc: 0.8480 - val_auc: 0.8955\n",
            "Epoch 26/50\n",
            "1628/1628 [==============================] - 5s 3ms/step - loss: 0.2775 - acc: 0.8703 - auc: 0.9286 - val_loss: 0.3766 - val_acc: 0.8495 - val_auc: 0.8940\n",
            "Epoch 27/50\n",
            "1628/1628 [==============================] - 8s 5ms/step - loss: 0.2746 - acc: 0.8695 - auc: 0.9309 - val_loss: 0.3898 - val_acc: 0.8457 - val_auc: 0.8914\n",
            "Epoch 28/50\n",
            "1628/1628 [==============================] - 7s 4ms/step - loss: 0.2742 - acc: 0.8697 - auc: 0.9305 - val_loss: 0.3929 - val_acc: 0.8509 - val_auc: 0.8953\n",
            "Epoch 29/50\n",
            "1628/1628 [==============================] - 4s 2ms/step - loss: 0.2747 - acc: 0.8698 - auc: 0.9305 - val_loss: 0.3944 - val_acc: 0.8505 - val_auc: 0.8892\n",
            "Epoch 30/50\n",
            "1628/1628 [==============================] - 4s 2ms/step - loss: 0.2743 - acc: 0.8705 - auc: 0.9307 - val_loss: 0.3825 - val_acc: 0.8529 - val_auc: 0.8933\n",
            "Epoch 31/50\n",
            "1628/1628 [==============================] - 4s 2ms/step - loss: 0.2726 - acc: 0.8706 - auc: 0.9314 - val_loss: 0.4204 - val_acc: 0.8463 - val_auc: 0.8896\n",
            "Epoch 32/50\n",
            "1628/1628 [==============================] - 4s 2ms/step - loss: 0.2717 - acc: 0.8723 - auc: 0.9316 - val_loss: 0.4126 - val_acc: 0.8509 - val_auc: 0.8940\n",
            "Epoch 33/50\n",
            "1628/1628 [==============================] - 7s 4ms/step - loss: 0.2691 - acc: 0.8711 - auc: 0.9331 - val_loss: 0.4107 - val_acc: 0.8491 - val_auc: 0.8932\n",
            "Epoch 34/50\n",
            "1628/1628 [==============================] - 7s 4ms/step - loss: 0.2714 - acc: 0.8707 - auc: 0.9323 - val_loss: 0.4193 - val_acc: 0.8492 - val_auc: 0.8893\n",
            "Epoch 35/50\n",
            "1628/1628 [==============================] - 5s 3ms/step - loss: 0.2688 - acc: 0.8717 - auc: 0.9334 - val_loss: 0.4096 - val_acc: 0.8492 - val_auc: 0.8908\n",
            "Epoch 36/50\n",
            "1628/1628 [==============================] - 4s 2ms/step - loss: 0.2680 - acc: 0.8720 - auc: 0.9336 - val_loss: 0.3975 - val_acc: 0.8483 - val_auc: 0.8928\n",
            "Epoch 37/50\n",
            "1628/1628 [==============================] - 4s 2ms/step - loss: 0.2677 - acc: 0.8725 - auc: 0.9341 - val_loss: 0.4148 - val_acc: 0.8449 - val_auc: 0.8885\n",
            "Epoch 38/50\n",
            "1628/1628 [==============================] - 4s 2ms/step - loss: 0.2664 - acc: 0.8745 - auc: 0.9346 - val_loss: 0.4140 - val_acc: 0.8495 - val_auc: 0.8914\n",
            "Epoch 39/50\n",
            "1628/1628 [==============================] - 6s 4ms/step - loss: 0.2649 - acc: 0.8752 - auc: 0.9357 - val_loss: 0.4186 - val_acc: 0.8458 - val_auc: 0.8889\n",
            "Epoch 40/50\n",
            "1628/1628 [==============================] - 7s 4ms/step - loss: 0.2648 - acc: 0.8740 - auc: 0.9355 - val_loss: 0.4286 - val_acc: 0.8465 - val_auc: 0.8877\n",
            "Epoch 41/50\n",
            "1628/1628 [==============================] - 7s 4ms/step - loss: 0.2643 - acc: 0.8735 - auc: 0.9356 - val_loss: 0.4337 - val_acc: 0.8480 - val_auc: 0.8869\n",
            "Epoch 42/50\n",
            "1628/1628 [==============================] - 4s 2ms/step - loss: 0.2640 - acc: 0.8739 - auc: 0.9360 - val_loss: 0.4261 - val_acc: 0.8451 - val_auc: 0.8847\n",
            "Epoch 43/50\n",
            "1628/1628 [==============================] - 4s 2ms/step - loss: 0.2643 - acc: 0.8747 - auc: 0.9357 - val_loss: 0.4257 - val_acc: 0.8483 - val_auc: 0.8904\n",
            "Epoch 44/50\n",
            "1628/1628 [==============================] - 4s 2ms/step - loss: 0.2627 - acc: 0.8748 - auc: 0.9363 - val_loss: 0.4131 - val_acc: 0.8478 - val_auc: 0.8909\n",
            "Epoch 45/50\n",
            "1628/1628 [==============================] - 5s 3ms/step - loss: 0.2616 - acc: 0.8760 - auc: 0.9371 - val_loss: 0.4356 - val_acc: 0.8448 - val_auc: 0.8888\n",
            "Epoch 46/50\n",
            "1628/1628 [==============================] - 9s 5ms/step - loss: 0.2614 - acc: 0.8775 - auc: 0.9369 - val_loss: 0.4277 - val_acc: 0.8446 - val_auc: 0.8901\n",
            "Epoch 47/50\n",
            "1628/1628 [==============================] - 7s 5ms/step - loss: 0.2601 - acc: 0.8764 - auc: 0.9377 - val_loss: 0.4343 - val_acc: 0.8449 - val_auc: 0.8891\n",
            "Epoch 48/50\n",
            "1628/1628 [==============================] - 6s 4ms/step - loss: 0.2600 - acc: 0.8762 - auc: 0.9378 - val_loss: 0.4379 - val_acc: 0.8468 - val_auc: 0.8900\n",
            "Epoch 49/50\n",
            "1628/1628 [==============================] - 4s 3ms/step - loss: 0.2592 - acc: 0.8767 - auc: 0.9383 - val_loss: 0.4653 - val_acc: 0.8448 - val_auc: 0.8819\n",
            "Epoch 50/50\n",
            "1628/1628 [==============================] - 4s 2ms/step - loss: 0.2588 - acc: 0.8769 - auc: 0.9381 - val_loss: 0.4433 - val_acc: 0.8474 - val_auc: 0.8870\n"
          ]
        }
      ]
    },
    {
      "cell_type": "code",
      "source": [
        "plt.plot(training.history['auc'])\n",
        "plt.plot(training.history['val_auc'])\n",
        "plt.show()"
      ],
      "metadata": {
        "id": "hBNsCS4eZ9JW",
        "colab": {
          "base_uri": "https://localhost:8080/",
          "height": 265
        },
        "outputId": "fe42bfda-45dd-4144-97c8-324378f71fbd"
      },
      "execution_count": null,
      "outputs": [
        {
          "output_type": "display_data",
          "data": {
            "text/plain": [
              "<Figure size 432x288 with 1 Axes>"
            ],
            "image/png": "[encoded data removed]"
          },
          "metadata": {}
        }
      ]
    },
    {
      "cell_type": "code",
      "source": [
        "Y_predicted = model.predict(X_test)"
      ],
      "metadata": {
        "id": "zhQSIgBKo7PH"
      },
      "execution_count": null,
      "outputs": []
    },
    {
      "cell_type": "code",
      "source": [
        "Y_predicted"
      ],
      "metadata": {
        "id": "WMUDqNV3o9QD",
        "colab": {
          "base_uri": "https://localhost:8080/"
        },
        "outputId": "194a5711-2b81-4a33-cc70-a8b22be41d67"
      },
      "execution_count": null,
      "outputs": [
        {
          "output_type": "execute_result",
          "data": {
            "text/plain": [
              "array([[8.0021095e-01],\n",
              "       [9.8937511e-01],\n",
              "       [1.3518888e-01],\n",
              "       ...,\n",
              "       [1.4528632e-04],\n",
              "       [3.1471163e-01],\n",
              "       [1.7259684e-01]], dtype=float32)"
            ]
          },
          "metadata": {},
          "execution_count": 851
        }
      ]
    },
    {
      "cell_type": "code",
      "source": [
        "def validate_model(x, y, cls):\n",
        "  y_pred = cls.predict(x)\n",
        "  acc = accuracy_score(y, tf.round(y_pred))\n",
        "  roc = roc_auc_score(y, y_pred)\n",
        "\n",
        "  return (acc, roc)"
      ],
      "metadata": {
        "id": "1jkmzoRmpMK9"
      },
      "execution_count": null,
      "outputs": []
    },
    {
      "cell_type": "code",
      "source": [
        "validate_model(X_test.to_numpy(), Y_test.to_numpy(), model)"
      ],
      "metadata": {
        "id": "vJu4-y88pNrC",
        "colab": {
          "base_uri": "https://localhost:8080/"
        },
        "outputId": "f3512b5d-5ba7-4136-b2d9-5f59f440d90c"
      },
      "execution_count": null,
      "outputs": [
        {
          "output_type": "execute_result",
          "data": {
            "text/plain": [
              "(0.8473821587594043, 0.8885845936605848)"
            ]
          },
          "metadata": {},
          "execution_count": 853
        }
      ]
    },
    {
      "cell_type": "code",
      "source": [
        "y_pred = model.predict(X)\n",
        "\n",
        "ConfusionMatrixDisplay.from_predictions(Y, tf.round(y_pred), normalize='pred')\n",
        "plt.grid(False)\n",
        "plt.show()"
      ],
      "metadata": {
        "id": "VGPnS-CJpRuJ",
        "colab": {
          "base_uri": "https://localhost:8080/",
          "height": 282
        },
        "outputId": "931ca02d-a7c8-49e9-de43-4518e5b1a382"
      },
      "execution_count": null,
      "outputs": [
        {
          "output_type": "display_data",
          "data": {
            "text/plain": [
              "<Figure size 432x288 with 2 Axes>"
            ],
            "image/png": "[encoded data removed]"
          },
          "metadata": {}
        }
      ]
    },
    {
      "cell_type": "code",
      "source": [],
      "metadata": {
        "id": "7FuR6qeII6D7"
      },
      "execution_count": null,
      "outputs": []
    }
  ]
}